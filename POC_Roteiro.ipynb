{
 "cells": [
  {
   "cell_type": "code",
   "execution_count": 1,
   "metadata": {},
   "outputs": [
    {
     "data": {
      "text/plain": [
       "True"
      ]
     },
     "execution_count": 1,
     "metadata": {},
     "output_type": "execute_result"
    }
   ],
   "source": [
    "from pymongo import MongoClient\n",
    "import json\n",
    "from bson import ObjectId\n",
    "from bs4 import BeautifulSoup\n",
    "from langchain.text_splitter import RecursiveCharacterTextSplitter\n",
    "import pandas as pd\n",
    "import unicodedata\n",
    "import os\n",
    "\n",
    "\n",
    "from dotenv import load_dotenv\n",
    "from utils import espiadinha, get_df\n",
    "load_dotenv()"
   ]
  },
  {
   "cell_type": "markdown",
   "metadata": {},
   "source": [
    "<h3>Funções para acessar MongoDB Alexandria:  </h3>\n",
    "*Utilize \"help(nome da função)\" para entender os atributos da função (exemplo: help(espiadinha))"
   ]
  },
  {
   "cell_type": "code",
   "execution_count": 2,
   "metadata": {},
   "outputs": [],
   "source": [
    "def from_html_to_text(tag):\n",
    "    soup = BeautifulSoup(tag, features=\"html.parser\")\n",
    "    for script in soup([\"script\", \"style\"]):\n",
    "        script.extract()   \n",
    "    text = soup.get_text()\n",
    "    return text"
   ]
  },
  {
   "cell_type": "code",
   "execution_count": 3,
   "metadata": {},
   "outputs": [],
   "source": [
    "#credenciais de acesso ao alexandria\n",
    "server_type = os.getenv(\"server_type\")\n",
    "MONGO_ALEXANDRIA_USERNAME = os.getenv('MONGO_ALEXANDRIA_USERNAME')\n",
    "MONGO_ALEXANDRIA_PASSWORD = os.getenv('MONGO_ALEXANDRIA_PASSWORD')\n",
    "MONGO_ALEXANDRIA_HOST = os.getenv('MONGO_ALEXANDRIA_HOST')\n",
    "str_conn = f\"{server_type}://{MONGO_ALEXANDRIA_USERNAME}:{MONGO_ALEXANDRIA_PASSWORD}@{MONGO_ALEXANDRIA_HOST}\" \n",
    "client = MongoClient(str_conn)\n",
    "db = client['alexandria-kroton']"
   ]
  },
  {
   "cell_type": "code",
   "execution_count": 4,
   "metadata": {},
   "outputs": [],
   "source": [
    "#import das bases do alexandria\n",
    "cursos={\n",
    "        'Gastronomia':['PLANEJAMENTO DE CARDÁPIO', 'ADMINISTRAÇÃO APLICADA À GASTRONOMIA'],\n",
    "        'Engenharia Civil':['FÍSICA GERAL E EXPERIMENTAL - MECÂNICA','QUÍMICA E CIÊNCIA DOS MATERIAIS'],\n",
    "        'Ciências Contábeis':['ANÁLISE DE CUSTOS', 'MÉTODOS QUANTITATIVOS'],\n",
    "        'Publicidade e Propaganda':['SISTEMAS BRASILEIROS DE COMUNICAÇÃO', 'SOCIEDADE BRASILEIRA E CIDADANIA']\n",
    "    }\n",
    "\n",
    "df_disc=get_df(db,'disciplines',['title','learningUnits','krotonId'])\n",
    "df_LUs=get_df(db,'learningunits',['_id','classes','krotonId'])\n",
    "df_cls=get_df(db,'classes',['_id','blocks','krotonId','title'])\n",
    "df_blk=get_df(db,'blocks',['_id','questions','content','title'])\n",
    "df_quest=get_df(db,'questions',['_id','type','questionModel','title','description','feedback','alternatives','classId'])"
   ]
  },
  {
   "cell_type": "markdown",
   "metadata": {},
   "source": [
    "Requisição de conteúdo de aula"
   ]
  },
  {
   "cell_type": "code",
   "execution_count": 25,
   "metadata": {},
   "outputs": [
    {
     "name": "stdout",
     "output_type": "stream",
     "text": [
      "Requisitando curso: Gastronomia - Disciplina: ADMINISTRAÇÃO APLICADA À GASTRONOMIA\n"
     ]
    },
    {
     "name": "stderr",
     "output_type": "stream",
     "text": [
      "C:\\Users\\renan.vital\\AppData\\Local\\Temp\\ipykernel_1096\\3182880459.py:33: FutureWarning: Series.__getitem__ treating keys as positions is deprecated. In a future version, integer keys will always be treated as labels (consistent with DataFrame behavior). To access a value by position, use `ser.iloc[pos]`\n",
      "  conteudo=conteudo+f'{from_html_to_text(texto[1][0])}: {from_html_to_text(texto[1][1])}'\n",
      "C:\\Users\\renan.vital\\AppData\\Local\\Temp\\ipykernel_1096\\3182880459.py:33: FutureWarning: Series.__getitem__ treating keys as positions is deprecated. In a future version, integer keys will always be treated as labels (consistent with DataFrame behavior). To access a value by position, use `ser.iloc[pos]`\n",
      "  conteudo=conteudo+f'{from_html_to_text(texto[1][0])}: {from_html_to_text(texto[1][1])}'\n",
      "C:\\Users\\renan.vital\\AppData\\Local\\Temp\\ipykernel_1096\\3182880459.py:33: FutureWarning: Series.__getitem__ treating keys as positions is deprecated. In a future version, integer keys will always be treated as labels (consistent with DataFrame behavior). To access a value by position, use `ser.iloc[pos]`\n",
      "  conteudo=conteudo+f'{from_html_to_text(texto[1][0])}: {from_html_to_text(texto[1][1])}'\n",
      "C:\\Users\\renan.vital\\AppData\\Local\\Temp\\ipykernel_1096\\3182880459.py:33: FutureWarning: Series.__getitem__ treating keys as positions is deprecated. In a future version, integer keys will always be treated as labels (consistent with DataFrame behavior). To access a value by position, use `ser.iloc[pos]`\n",
      "  conteudo=conteudo+f'{from_html_to_text(texto[1][0])}: {from_html_to_text(texto[1][1])}'\n",
      "C:\\Users\\renan.vital\\AppData\\Local\\Temp\\ipykernel_1096\\3182880459.py:33: FutureWarning: Series.__getitem__ treating keys as positions is deprecated. In a future version, integer keys will always be treated as labels (consistent with DataFrame behavior). To access a value by position, use `ser.iloc[pos]`\n",
      "  conteudo=conteudo+f'{from_html_to_text(texto[1][0])}: {from_html_to_text(texto[1][1])}'\n",
      "C:\\Users\\renan.vital\\AppData\\Local\\Temp\\ipykernel_1096\\3182880459.py:33: FutureWarning: Series.__getitem__ treating keys as positions is deprecated. In a future version, integer keys will always be treated as labels (consistent with DataFrame behavior). To access a value by position, use `ser.iloc[pos]`\n",
      "  conteudo=conteudo+f'{from_html_to_text(texto[1][0])}: {from_html_to_text(texto[1][1])}'\n",
      "C:\\Users\\renan.vital\\AppData\\Local\\Temp\\ipykernel_1096\\3182880459.py:33: FutureWarning: Series.__getitem__ treating keys as positions is deprecated. In a future version, integer keys will always be treated as labels (consistent with DataFrame behavior). To access a value by position, use `ser.iloc[pos]`\n",
      "  conteudo=conteudo+f'{from_html_to_text(texto[1][0])}: {from_html_to_text(texto[1][1])}'\n",
      "C:\\Users\\renan.vital\\AppData\\Local\\Temp\\ipykernel_1096\\3182880459.py:33: FutureWarning: Series.__getitem__ treating keys as positions is deprecated. In a future version, integer keys will always be treated as labels (consistent with DataFrame behavior). To access a value by position, use `ser.iloc[pos]`\n",
      "  conteudo=conteudo+f'{from_html_to_text(texto[1][0])}: {from_html_to_text(texto[1][1])}'\n",
      "C:\\Users\\renan.vital\\AppData\\Local\\Temp\\ipykernel_1096\\3182880459.py:33: FutureWarning: Series.__getitem__ treating keys as positions is deprecated. In a future version, integer keys will always be treated as labels (consistent with DataFrame behavior). To access a value by position, use `ser.iloc[pos]`\n",
      "  conteudo=conteudo+f'{from_html_to_text(texto[1][0])}: {from_html_to_text(texto[1][1])}'\n",
      "C:\\Users\\renan.vital\\AppData\\Local\\Temp\\ipykernel_1096\\3182880459.py:33: FutureWarning: Series.__getitem__ treating keys as positions is deprecated. In a future version, integer keys will always be treated as labels (consistent with DataFrame behavior). To access a value by position, use `ser.iloc[pos]`\n",
      "  conteudo=conteudo+f'{from_html_to_text(texto[1][0])}: {from_html_to_text(texto[1][1])}'\n",
      "C:\\Users\\renan.vital\\AppData\\Local\\Temp\\ipykernel_1096\\3182880459.py:33: FutureWarning: Series.__getitem__ treating keys as positions is deprecated. In a future version, integer keys will always be treated as labels (consistent with DataFrame behavior). To access a value by position, use `ser.iloc[pos]`\n",
      "  conteudo=conteudo+f'{from_html_to_text(texto[1][0])}: {from_html_to_text(texto[1][1])}'\n",
      "C:\\Users\\renan.vital\\AppData\\Local\\Temp\\ipykernel_1096\\3182880459.py:33: FutureWarning: Series.__getitem__ treating keys as positions is deprecated. In a future version, integer keys will always be treated as labels (consistent with DataFrame behavior). To access a value by position, use `ser.iloc[pos]`\n",
      "  conteudo=conteudo+f'{from_html_to_text(texto[1][0])}: {from_html_to_text(texto[1][1])}'\n",
      "C:\\Users\\renan.vital\\AppData\\Local\\Temp\\ipykernel_1096\\3182880459.py:33: FutureWarning: Series.__getitem__ treating keys as positions is deprecated. In a future version, integer keys will always be treated as labels (consistent with DataFrame behavior). To access a value by position, use `ser.iloc[pos]`\n",
      "  conteudo=conteudo+f'{from_html_to_text(texto[1][0])}: {from_html_to_text(texto[1][1])}'\n",
      "C:\\Users\\renan.vital\\AppData\\Local\\Temp\\ipykernel_1096\\3182880459.py:33: FutureWarning: Series.__getitem__ treating keys as positions is deprecated. In a future version, integer keys will always be treated as labels (consistent with DataFrame behavior). To access a value by position, use `ser.iloc[pos]`\n",
      "  conteudo=conteudo+f'{from_html_to_text(texto[1][0])}: {from_html_to_text(texto[1][1])}'\n",
      "C:\\Users\\renan.vital\\AppData\\Local\\Temp\\ipykernel_1096\\3182880459.py:33: FutureWarning: Series.__getitem__ treating keys as positions is deprecated. In a future version, integer keys will always be treated as labels (consistent with DataFrame behavior). To access a value by position, use `ser.iloc[pos]`\n",
      "  conteudo=conteudo+f'{from_html_to_text(texto[1][0])}: {from_html_to_text(texto[1][1])}'\n",
      "C:\\Users\\renan.vital\\AppData\\Local\\Temp\\ipykernel_1096\\3182880459.py:33: FutureWarning: Series.__getitem__ treating keys as positions is deprecated. In a future version, integer keys will always be treated as labels (consistent with DataFrame behavior). To access a value by position, use `ser.iloc[pos]`\n",
      "  conteudo=conteudo+f'{from_html_to_text(texto[1][0])}: {from_html_to_text(texto[1][1])}'\n",
      "C:\\Users\\renan.vital\\AppData\\Local\\Temp\\ipykernel_1096\\3182880459.py:33: FutureWarning: Series.__getitem__ treating keys as positions is deprecated. In a future version, integer keys will always be treated as labels (consistent with DataFrame behavior). To access a value by position, use `ser.iloc[pos]`\n",
      "  conteudo=conteudo+f'{from_html_to_text(texto[1][0])}: {from_html_to_text(texto[1][1])}'\n",
      "C:\\Users\\renan.vital\\AppData\\Local\\Temp\\ipykernel_1096\\3182880459.py:33: FutureWarning: Series.__getitem__ treating keys as positions is deprecated. In a future version, integer keys will always be treated as labels (consistent with DataFrame behavior). To access a value by position, use `ser.iloc[pos]`\n",
      "  conteudo=conteudo+f'{from_html_to_text(texto[1][0])}: {from_html_to_text(texto[1][1])}'\n",
      "C:\\Users\\renan.vital\\AppData\\Local\\Temp\\ipykernel_1096\\3182880459.py:33: FutureWarning: Series.__getitem__ treating keys as positions is deprecated. In a future version, integer keys will always be treated as labels (consistent with DataFrame behavior). To access a value by position, use `ser.iloc[pos]`\n",
      "  conteudo=conteudo+f'{from_html_to_text(texto[1][0])}: {from_html_to_text(texto[1][1])}'\n",
      "C:\\Users\\renan.vital\\AppData\\Local\\Temp\\ipykernel_1096\\3182880459.py:33: FutureWarning: Series.__getitem__ treating keys as positions is deprecated. In a future version, integer keys will always be treated as labels (consistent with DataFrame behavior). To access a value by position, use `ser.iloc[pos]`\n",
      "  conteudo=conteudo+f'{from_html_to_text(texto[1][0])}: {from_html_to_text(texto[1][1])}'\n"
     ]
    }
   ],
   "source": [
    "sequencia=1\n",
    "curso_lista=['Gastronomia']\n",
    "for curso in curso_lista:\n",
    "    disciplina = cursos[curso][sequencia]\n",
    "    disciplina = ''.join(c for c in disciplina if not unicodedata.category(c).startswith('C'))\n",
    "    print(f\"Requisitando curso: {curso} - Disciplina: {disciplina}\")\n",
    "    \n",
    "    #Filtro de Unidades de ensino de uma Disciplina\n",
    "    filtro_LUs = df_disc[df_disc.title.isin([disciplina])]['learningUnits'].to_list()[-1]\n",
    "\n",
    "    #Filtro de classes dentro de uma unidade de ensino\n",
    "    filtro_LU_CLASSES_aninhado = df_LUs[df_LUs._id.isin(filtro_LUs)]['classes'].to_list()\n",
    "\n",
    "    #Para cada unidade de ensino vamos extrair o conteúdo de cada aula\n",
    "    dict_conteudo = {}\n",
    "    for LU_ORDER, filtro_CLASSES_FROM_LU in enumerate(filtro_LU_CLASSES_aninhado):\n",
    "        LU_ORDER=LU_ORDER+1\n",
    "        #print(f'Fazendo LU: {LU_ORDER}')\n",
    "        \n",
    "        #filtro assets são todos os assets de cada aula de uma unidade de ensino\n",
    "        filtro_ASSETS = df_cls[df_cls._id.isin(filtro_CLASSES_FROM_LU)]['blocks'].to_list()\n",
    "        dict_conteudo[f\"Unidade_{LU_ORDER}\"] = {}\n",
    "        #\n",
    "        for AULA_ORDER, ASSETS_FROM_AULA in enumerate(filtro_ASSETS):\n",
    "            AULA_ORDER=AULA_ORDER+1\n",
    "            #print(f'Fazendo aula: {AULA_ORDER}')\n",
    "            conteudo = f\"Unidade_{LU_ORDER} - AULA_{AULA_ORDER} =|> \"\n",
    "            for texto in df_blk[\n",
    "                (df_blk._id.isin(ASSETS_FROM_AULA))\n",
    "                &(df_blk.content.notna())\n",
    "                &(~df_blk.title.isin(['Siga em Frente...','Referências','Saiba mais']))\n",
    "                ][['title','content']].iterrows():\n",
    "                conteudo=conteudo+f'{from_html_to_text(texto[1][0])}: {from_html_to_text(texto[1][1])}'\n",
    "            dict_conteudo[f\"Unidade_{LU_ORDER}\"][f\"AULA_{AULA_ORDER}\"] = conteudo\n",
    "    \n",
    "    "
   ]
  },
  {
   "cell_type": "code",
   "execution_count": 6,
   "metadata": {},
   "outputs": [
    {
     "name": "stdout",
     "output_type": "stream",
     "text": [
      "Requisitando curso: Gastronomia - Disciplina: ADMINISTRAÇÃO APLICADA À GASTRONOMIA\n",
      "Fazendo LU: 1\n",
      "Fazendo aula: 5 - 4 questões\n",
      "Fazendo questão: 1\n",
      "Fazendo questão: 2\n",
      "Fazendo questão: 3\n",
      "Fazendo questão: 4\n",
      "Fazendo LU: 2\n",
      "Fazendo aula: 5 - 4 questões\n",
      "Fazendo questão: 1\n",
      "Fazendo questão: 2\n",
      "Fazendo questão: 3\n",
      "Fazendo questão: 4\n",
      "Fazendo LU: 3\n",
      "Fazendo aula: 5 - 4 questões\n",
      "Fazendo questão: 1\n",
      "Fazendo questão: 2\n",
      "Fazendo questão: 3\n",
      "Fazendo questão: 4\n",
      "Fazendo LU: 4\n",
      "Fazendo aula: 5 - 4 questões\n",
      "Fazendo questão: 1\n",
      "Fazendo questão: 2\n",
      "Fazendo questão: 3\n",
      "Fazendo questão: 4\n"
     ]
    }
   ],
   "source": [
    "sequencia=1\n",
    "curso_lista=['Gastronomia']\n",
    "for curso in curso_lista:\n",
    "    disciplina = cursos[curso][sequencia]\n",
    "    disciplina = ''.join(c for c in disciplina if not unicodedata.category(c).startswith('C'))\n",
    "    print(f\"Requisitando curso: {curso} - Disciplina: {disciplina}\")\n",
    "    \n",
    "    #Filtro de Unidades de ensino de uma Disciplina\n",
    "    filtro_LUs = df_disc[df_disc.title.isin([disciplina])]['learningUnits'].to_list()[-1]\n",
    "\n",
    "    #Filtro de classes dentro de uma unidade de ensino\n",
    "    filtro_LU_CLASSES_aninhado = df_LUs[df_LUs._id.isin(filtro_LUs)]['classes'].to_list()\n",
    "\n",
    "    #Para cada unidade de ensino vamos extrair o conteúdo de cada aula\n",
    "    dict_questoes = {}\n",
    "    for LU_ORDER, filtro_CLASSES_FROM_LU in enumerate(filtro_LU_CLASSES_aninhado):\n",
    "        LU_ORDER=LU_ORDER+1\n",
    "        print(f'Fazendo LU: {LU_ORDER}')\n",
    "        dict_questoes[f\"Unidade_{LU_ORDER}\"] = {}\n",
    "        \n",
    "        #filtro assets são todos os assets de cada aula de uma unidade de ensino\n",
    "        filtro_ASSETS = df_cls[df_cls._id.isin(filtro_CLASSES_FROM_LU)]['blocks'].to_list()\n",
    "        \n",
    "        for AULA_ORDER, ASSETS_FROM_AULA in enumerate(filtro_ASSETS):\n",
    "\n",
    "            for id_questions in df_blk[(df_blk._id.isin(ASSETS_FROM_AULA))&(df_blk.title.str.contains('Prova'))]['questions']:\n",
    "                print(f'Fazendo aula: {AULA_ORDER+1} - {len(id_questions)} questões')\n",
    "                \n",
    "                for QUESTION_ORDER, questao_row in enumerate(df_quest[df_quest._id.isin(id_questions)][['title','description','feedback','alternatives']].iterrows()):\n",
    "                    QUESTION_ORDER=QUESTION_ORDER+1\n",
    "                    print('Fazendo questão:', QUESTION_ORDER)\n",
    "                    dict_questoes[f\"Unidade_{LU_ORDER}\"][f\"Questao_{QUESTION_ORDER}\"] = {}\n",
    "                    dict_questoes[f\"Unidade_{LU_ORDER}\"][f\"Questao_{QUESTION_ORDER}\"]['title'] = from_html_to_text(questao_row[1]['title'])\n",
    "                    dict_questoes[f\"Unidade_{LU_ORDER}\"][f\"Questao_{QUESTION_ORDER}\"]['description'] = from_html_to_text(questao_row[1]['description'])\n",
    "                    dict_questoes[f\"Unidade_{LU_ORDER}\"][f\"Questao_{QUESTION_ORDER}\"]['feedback'] = from_html_to_text(questao_row[1]['feedback'])\n",
    "                    dict_questoes[f\"Unidade_{LU_ORDER}\"][f\"Questao_{QUESTION_ORDER}\"]['alternatives'] = questao_row[1]['alternatives']\n",
    "        #break\n"
   ]
  },
  {
   "cell_type": "code",
   "execution_count": 7,
   "metadata": {},
   "outputs": [],
   "source": [
    "import faiss\n",
    "from langchain_community.docstore.in_memory import InMemoryDocstore\n",
    "from langchain_community.vectorstores import FAISS\n",
    "from langchain_openai import AzureOpenAIEmbeddings\n",
    "\n",
    "embeddings = AzureOpenAIEmbeddings(\n",
    "    azure_endpoint='https://openai-dados-lab-poc.openai.azure.com/',\n",
    "    api_key=os.environ[\"AZURE_OPENAI_API_KEY\"]\n",
    ")   \n"
   ]
  },
  {
   "cell_type": "code",
   "execution_count": 26,
   "metadata": {},
   "outputs": [
    {
     "name": "stdout",
     "output_type": "stream",
     "text": [
      "Unidade_1 Questao_1 O Poder de Barganha dos Fornecedores é uma das cinco forças no modelo das Cinco Forças de Porter, que ajuda a determinar a atratividade e a competitividade de um mercado ou setor. Esta força específica analisa até que ponto os fornecedores podem influenciar o preço e as condições de seus produtos ou serviços.Considerando o impacto do Poder de Barganha dos Fornecedores na estratégia de negócios, avalie as seguintes asserções e a relação proposta entre elas.I. Empresas podem reduzir o poder de barganha dos fornecedores através da diversificação de fontes de suprimento, estabelecendo relações de longo prazo com diversos fornecedores ou investindo em verticalização. Essas estratégias ajudam a minimizar a dependência de fornecedores específicos, permitindo uma maior flexibilidade operacional e reduzindo o risco de aumento de preços ou diminuição da qualidade dos insumos.PORQUEII. A concentração de fornecedores e a falta de substitutos viáveis são as únicas condições que determinam o poder de barganha dos fornecedores, tornando outras estratégias de mitigação, como a criação de produtos substitutos internamente ou a mudança para fornecedores internacionais, irrelevantes para a redução desse poder.A respeito dessas asserções, assinale a alternativa correta.As asserções I e II são proposições verdadeiras, mas a II não justifica a I. Errada. Embora a asserção I seja verdadeira, a asserção II é falsa porque negligencia a eficácia de outras estratégias de mitigação que podem efetivamente reduzir o poder de barganha dos fornecedores, como a inovação em produtos substitutos ou a expansão da base de fornecedores.As asserções I e II são proposições verdadeiras e a II justifica a I. Errada. A II não pode justificar a I, pois a asserção II apresenta uma visão limitada e incorreta sobre os fatores que influenciam o poder de barganha dos fornecedores. Estratégias de mitigação além da diversificação de fornecedores e a busca por substitutos são relevantes e eficazes.A asserção I é uma proposição verdadeira e a II, falsa. Correta. A asserção I é verdadeira porque identifica estratégias válidas e eficazes para reduzir o poder de barganha dos fornecedores. A asserção II é falsa, pois existem várias outras condições e estratégias que podem influenciar o poder de barganha dos fornecedores, além da concentração de fornecedores e da falta de substitutos viáveis.A asserção I é uma proposição falsa e a II, verdadeira. Errada. A asserção I é verdadeira, destacando métodos práticos pelos quais as empresas podem diminuir a influência de fornecedores poderosos. A asserção II é falsa, pois subestima a importância e a eficácia de estratégias alternativas para reduzir o poder de barganha dos fornecedores.As asserções I e II são proposições falsas. Errada. A asserção I é claramente verdadeira, oferecendo insight sobre como as empresas podem combater o poder de barganha dos fornecedores. Alegar que ambas as asserções são falsas desconsidera a validade da primeira asserção e a complexidade da gestão de relações com fornecedores.\n",
      "Unidade_1 Questao_2 O planejamento é uma ferramenta essencial para a organização e execução de objetivos em qualquer área de atuação. Ao dividir este processo em níveis distintos, é possível abordar desde visões amplas até detalhes específicos de implementação. Essa estratificação permite uma melhor alocação de recursos, priorização de tarefas e alinhamento de metas, garantindo que todos os aspectos de um projeto ou estratégia sejam considerados de maneira integrada e eficaz.Assinale a alternativa correta que identifica os níveis de planejamento utilizados nas organizações.Planejamento Estratégico, Planejamento Operacional e Planejamento Contingencial. Incorreta. Esta alternativa mistura níveis tradicionais de planejamento (estratégico e operacional) com um tipo de planejamento que é mais um componente ou abordagem dentro dos níveis existentes (contingencial).Planejamento Tático, Planejamento Financeiro e Planejamento Estratégico. Incorreta. Esta alternativa inclui dois níveis reconhecidos de planejamento (estratégico e tático) mas introduz o Planejamento Financeiro como um nível separado, o qual, na realidade, é um aspecto ou componente do Planejamento Estratégico e Tático.Planejamento de Marketing, Planejamento Estratégico e Planejamento Financeiro. Incorreta. Esta opção inclui o Planejamento Estratégico corretamente, mas adiciona Planejamento de Marketing e Planejamento Financeiro como se fossem níveis separados. Ambos são, na verdade, componentes do planejamento estratégico e tático, focando em aspectos específicos da estratégia geral da organização. Portanto, não são categorizados como níveis separados de planejamento.Planejamento Estratégico, Planejamento de Recursos Humanos e Planejamento Tático. Incorreta: Esta alternativa reconhece o Planejamento Estratégico e o Planejamento Tático como níveis de planejamento. No entanto, o Planejamento de Recursos Humanos é mais bem entendido como um componente do Planejamento Tático (e, em alguns casos, do Operacional), visto que lida com a alocação e desenvolvimento de pessoal dentro da estrutura organizacional, e não como um nível separado de planejamento.Planejamento Estratégico, Planejamento Tático e Planejamento Operacional. Correta. Esta é a única alternativa que corretamente identifica os três níveis de planejamento reconhecidos nas organizações. O Planejamento Estratégico define a direção de longo prazo e os objetivos gerais da organização. O Planejamento Tático traduz esses objetivos em planos mais específicos, focados em diferentes departamentos ou unidades de negócios. O Planejamento Operacional detalha ainda mais esses planos em atividades cotidianas e procedimentos.\n",
      "Unidade_1 Questao_3 O desenvolvimento de mercado é uma estratégia de crescimento que envolve a introdução de produtos ou serviços existentes em novos mercados. Este processo pode incluir a expansão geográfica, a exploração de novos segmentos de mercado ou até mesmo a adaptação de produtos para atender às necessidades específicas de diferentes culturas ou preferências locais.Com base na estratégia de desenvolvimento de mercado, avalie as seguintes asserções e a relação proposta entre elas.I. A adaptação de um menu clássico para incluir opções que atendam às preferências locais é crucial para o sucesso de uma pizzaria em uma nova cidade, pois permite que a empresa atenda às expectativas dos clientes locais mantendo a essência de sua marca.PORQUEII. A identidade da marca e a consistência do menu são menos importantes que a adaptação local quando se entra em um novo mercado, já que satisfazer as preferências e necessidades locais deve ser a prioridade máxima para garantir a aceitação do mercado.A respeito dessas asserções, assinale a alternativa correta.As asserções I e II são proposições verdadeiras, mas a II não justifica a I. Errada: A asserção II contradiz a importância dada à adaptação local sem negar a relevância da identidade da marca e da consistência do menu, o que a torna uma justificativa inadequada para a asserção I.As asserções I e II são proposições verdadeiras e a II justifica a I. Errada: A asserção II sugere que a identidade da marca e a consistência do menu são menos importantes do que a adaptação local, o que poderia contradizer a ideia de que manter a essência da marca é crucial, conforme indicado na asserção I.A asserção I é uma proposição verdadeira e a II, falsa. Correta: A asserção I é verdadeira porque destaca a importância da adaptação ao mercado local mantendo a essência da marca, o que é uma estratégia comprovada de desenvolvimento de mercado. A asserção II é falsa, pois subestima a importância da identidade da marca e da consistência, que são fundamentais para o sucesso a longo prazo em novos mercados.A asserção I é uma proposição falsa e a II, verdadeira. Errada: A asserção I é verdadeira porque reflete uma estratégia equilibrada de entrar em novos mercados, adaptando-se às preferências locais sem perder a identidade da marca. A asserção II apresenta uma visão limitada, sugerindo uma priorização inadequada.As asserções I e II são proposições falsas. Errada: Ambas as asserções apresentam pontos válidos sobre o desenvolvimento de mercado, mas a asserção II é mal orientada ao sugerir que a identidade da marca e a consistência do menu são menos importantes que a adaptação local.\n",
      "Unidade_1 Questao_4 No mercado altamente competitivo de hoje, o posicionamento de uma empresa desempenha um papel fundamental em sua visibilidade e sucesso. Existem diferentes tipos de estratégias de posicionamento uma que é bastante interessante é a estratégia em que a empresa se coloca diretamente em relação aos seus concorrentes, destacando o que a torna superior. Essa abordagem pode ser arriscada, mas, quando bem executada, estabelece uma comparação direta que pode favorecer a marca em questão.Qual estratégia de posicionamento é mencionada no texto-base? Posicionamento de nicho. Errada. O posicionamento de nicho é uma estratégia diferente da mencionada no texto base, que se concentra em atender a um segmento específico do mercado, em vez de se posicionar em relação aos concorrentes.Posicionamento por categoria. Errada. O posicionamento por categoria também é uma estratégia diferente da abordada no texto base. Nesse caso, a empresa se posicionaria com base na categoria de produtos ou serviços que oferece, e não em relação aos concorrentes diretos.Posicionamento por usuário. Errada. O posicionamento por usuário é outra estratégia que não corresponde à mencionada no texto base. Nesse caso, a empresa se concentra nas necessidades e preferências dos clientes, não na comparação direta com os concorrentes.Posicionamento por concorrente. Certa. Essa é a estratégia correta mencionada no texto-base. No posicionamento por concorrente, a empresa se coloca diretamente em relação aos seus concorrentes, buscando destacar o que a torna superior.Posicionamento de produto. Errada. O posicionamento de produto é outra estratégia diferente da abordada no texto base. Nesse caso, a empresa se concentra em destacar as características ou benefícios específicos do produto em relação à concorrência, não na comparação global da marca com seus concorrentes.\n",
      "Unidade_2 Questao_1 Independentemente da sua natureza, todas as organizações compartilham funções organizacionais essenciais que desempenham um papel fundamental na consecução de seus objetivos. Essas funções são cruciais para o funcionamento eficiente e eficaz de uma organização e podem ser consideradas como os pilares que sustentam sua operação.Qual é a função que se concentra na gestão de pessoas dentro da organização, incluindo recrutamento, treinamento, desenvolvimento de carreira e garantia de um ambiente de trabalho saudável e produtivo?Produção ou Operações. Incorreta. Esta função envolve a criação de bens ou serviços que a organização oferece. É o coração da maioria das empresas, onde as matérias-primas são transformadas em produtos finais.Marketing. Incorreta. Esta função lida com a promoção e venda dos produtos ou serviços da organização. Inclui pesquisa de mercado, publicidade e estratégias de vendas para atrair e reter clientes.Pesquisa e Desenvolvimento (P&D). Incorreta. Fundamental para a inovação, esta função se concentra no desenvolvimento de novos produtos ou na melhoria dos existentes, garantindo a competitividade e a relevância da organização no mercado.Finanças. Incorreta. As finanças envolvem a gestão dos recursos financeiros da organização, incluindo orçamento, investimentos, contabilidade e controle financeiro.Recursos Humanos (RH). Correta. Esta função trata da gestão de pessoas dentro da organização. Inclui recrutamento, treinamento, desenvolvimento de carreira e garantia de um ambiente de trabalho saudável e produtivo.\n",
      "Unidade_2 Questao_2 Os princípios da Produção em Massa, essenciais para a revolução industrial e particularmente na indústria automobilística, são baseados em dois pilares principais. Estes princípios foram fundamentais para o aumento da produtividade e eficiência nas fábricas.Assinale a alternativa correta sobre os princípios da Produção em Massa.A Produção em Massa eliminou a necessidade de peças padronizadas e intercambiáveis, focando exclusivamente na especialização do trabalhador. Incorreta. A Produção em Massa depende fortemente de peças padronizadas e intercambiáveis, além da especialização do trabalhador, para sua eficácia.Na Produção em Massa, a especialização do trabalhador é desencorajada, promovendo um modelo de trabalho mais flexível e generalista. Incorreta. Ao contrário, na Produção em Massa, a especialização do trabalhador é fundamental, com cada um focando em uma tarefa específica na linha de montagem.Os princípios da Produção em Massa foram aplicados inicialmente na indústria têxtil, antes de serem adotados na indústria automobilística. Incorreta. Embora a indústria têxtil tenha sido uma das pioneiras na revolução industrial, os princípios específicos da Produção em Massa foram mais notavelmente aplicados e desenvolvidos na indústria automobilística.Peças e componentes padronizados e intercambiáveis, juntamente com a especialização do trabalhador, são pilares da Produção em Massa. Correta. Os dois pilares fundamentais da Produção em Massa são, de fato, a padronização de peças e componentes, que permite uma montagem eficiente e facilita manutenção, e a especialização do trabalhador, cada um realizando uma tarefa específica na linha de montagem.A Produção em Massa foca na produção de itens personalizados e únicos, rejeitando a padronização de peças e a especialização do trabalho. Incorreta. A Produção em Massa é caracterizada pela padronização de peças e pela produção de itens em grande escala, ao invés de focar na personalização e unicidade de produtos. \n",
      "Unidade_2 Questao_3 A Teoria das Decisões, desenvolvida por Herbert Simon, é um marco na compreensão do comportamento dos indivíduos dentro das organizações, especialmente em relação a como tomam decisões. Simon identificou duas categorias principais de decisões: programadas e não programadas.Qual é a principal diferença entre decisões programadas e não programadas, de acordo com a Teoria das Decisões de Herbert Simon?Decisões programadas são tomadas por líderes de alto nível, enquanto decisões não programadas são tomadas por líderes de nível médio. Incorreta. A Teoria das Decisões de Herbert Simon não relaciona o nível hierárquico dos tomadores de decisão com o tipo de decisão. Tanto líderes de alto nível quanto líderes de nível médio podem estar envolvidos em decisões programadas e não programadas.Decisões programadas envolvem situações complexas, enquanto decisões não programadas são rotineiras. Incorreta. A Teoria das Decisões de Herbert Simon não descreve decisões programadas como envolvendo situações complexas. Pelo contrário, decisões programadas são aquelas que envolvem situações rotineiras e repetitivas, enquanto decisões não programadas lidam com situações únicas e complexas.Decisões programadas são repetitivas e seguem procedimentos padrão, enquanto decisões não programadas lidam com situações únicas e complexas.Correta. A Teoria das Decisões de Herbert Simon distingue as decisões programadas das não programadas com base na natureza das situações que elas abordam. Decisões programadas são repetitivas e seguem procedimentos padrão, enquanto decisões não programadas lidam com situações únicas e complexas.Decisões programadas são tomadas de forma impulsiva, enquanto decisões não programadas são cuidadosamente planejadas. Incorreta.  A teoria não faz referência ao caráter impulsivo ou cuidadosamente planejado das decisões programadas e não programadas. Portanto, essa não é a principal distinção entre esses tipos de decisões.Decisões programadas são tomadas rapidamente, enquanto decisões não programadas são demoradas. Incorreta. A teoria não estabelece uma relação direta entre a velocidade com que as decisões são tomadas e o tipo de decisão. A rapidez ou demora na tomada de decisões depende de vários fatores e não é uma característica fundamental usada para distingui-las.\n",
      "Unidade_2 Questao_4 A Teoria da Excelência das Empresas começou a se desenvolver na década de 1960 e ganhou força na década de 1990. Impulsionada pelo advogado norte-americano Robert Monks, essa teoria se concentra na governança corporativa como peça-chave para o sucesso empresarial. Ela promove uma administração que é ao mesmo tempo ágil, sustentada e centrada nas pessoas. Esta teoria enfatiza a importância de uma administração estruturada e lógica, que seja capaz de responder rapidamente às mudanças do mercado e às necessidades dos stakeholders.Qual das práticas administrativas a seguir se concentra no planejamento e execução de estratégias de longo prazo para posicionar a empresa de forma competitiva e sustentável no mercado?Administração Participativa. Esta alternativa está errada em relação à pergunta, pois não se concentra no planejamento e execução de estratégias de longo prazo para a competitividade e sustentabilidade da empresa.Administração Estratégica. Esta alternativa está correta. A Administração Estratégica é a prática que se concentra no planejamento e execução de estratégias de longo prazo para posicionar a empresa de forma competitiva e sustentável no mercado, conforme solicitado na pergunta.Administração Virtual. Esta alternativa está errada em relação à pergunta, pois se concentra na gestão de operações em ambientes digitais, não especificamente no planejamento estratégico de longo prazo.Administração Colaborativa. Esta alternativa está errada em relação à pergunta, pois se concentra na promoção da colaboração entre partes interessadas, não no planejamento estratégico de longo prazo.Administração Sustentável. Esta alternativa está errada em relação à pergunta, pois se concentra na gestão responsável dos recursos e na sustentabilidade, não especificamente no planejamento estratégico de longo prazo.\n",
      "Unidade_3 Questao_1 A diferenciação entre treinamento e desenvolvimento nos ambientes corporativos reflete duas abordagens distintas para o aprimoramento dos colaboradores. Enquanto o treinamento visa atender às necessidades imediatas de desempenho, o desenvolvimento foca no crescimento a longo prazo, preparando os funcionários para futuras responsabilidades.Com base na distinção entre treinamento e desenvolvimento, assinale a alternativa que melhor caracteriza o propósito do treinamento.Fomentar uma cultura de aprendizado contínuo e adaptação no ambiente de trabalho. Errada: A cultura de aprendizado contínuo e adaptação é um objetivo mais alinhado com o desenvolvimento do que com o treinamento, que foca em necessidades imediatas.Preparar os funcionários para avançar em suas carreiras dentro da organização. Errada: Preparar os funcionários para avançar em suas carreiras é um objetivo do desenvolvimento, não do treinamento.Corrigir lacunas específicas de competências para melhorar o desempenho atual. Correta: O treinamento visa especificamente a correção de lacunas de competências para melhorar o desempenho atual do funcionário.Desenvolver habilidades para futuras posições e desafios dentro da empresa. Errada: O desenvolvimento de habilidades para futuras posições é um aspecto do desenvolvimento, não do treinamento.Incentivar o desenvolvimento pessoal e profissional a longo prazo dos colaboradores. Errada: O incentivo ao desenvolvimento pessoal e profissional a longo prazo é uma característica do desenvolvimento, e não do treinamento.\n",
      "Unidade_3 Questao_2 Os 7 Ts do marketing introduzem uma perspectiva mais detalhada e focada no cliente, destacando a necessidade de entender e responder às expectativas dos consumidores. Este modelo realça a importância de adaptar a oferta de mercado para incluir não apenas produtos, mas também serviços, experiências e valor agregado.A partir da inclusão de serviços no modelo dos 7 Ts, qual das seguintes opções melhor reflete a mudança na abordagem de marketing?Os serviços são considerados menos importantes que os produtos, recebendo atenção limitada nas estratégias de marketing. Errada: A abordagem dos 7 Ts coloca produtos e serviços em pé de igualdade, reconhecendo ambos como fundamentais para criar valor e satisfazer as necessidades dos clientes.A ênfase em serviços evidencia sua igualdade de importância com produtos, criando valor adicional e diferenciando a oferta. Correta: A inclusão explícita de serviços no modelo dos 7 Ts reflete a compreensão de que eles são tão importantes quanto os produtos para criar uma oferta de mercado diferenciada e valiosa.Serviços são relevantes apenas para empresas de tecnologia, não aplicando-se a outros setores do mercado. Errada: Serviços são essenciais em uma ampla gama de setores, não se limitando à tecnologia. Sua importância é universal, contribuindo significativamente para a experiência do cliente.A inclusão de serviços dilui o foco em qualidade de produto, sugerindo uma estratégia de marketing menos eficaz. Errada: Longe de diluir o foco na qualidade do produto, a inclusão de serviços no modelo dos 7 Ts enfatiza a necessidade de uma oferta integrada e de alta qualidade.Estratégias focadas em serviços priorizam a redução de custos em detrimento da satisfação do cliente e da qualidade. Errada: Estratégias que enfatizam serviços visam melhorar a satisfação do cliente e a qualidade da oferta, e não necessariamente a redução de custos.\n",
      "Unidade_3 Questao_3 Os fatores psicológicos, incluindo motivação, percepção, aprendizagem, crenças e atitudes, são fundamentais para entender como os consumidores interpretam informações e tomam decisões de compra. Esses aspectos internos moldam a forma como os produtos e serviços são vistos e escolhidos pelos consumidores.Levando em consideração os fatores psicológicos que influenciam o comportamento do consumidor, assinale a alternativa correta.A motivação não é considerada uma força interna que impulsiona o consumidor a satisfazer necessidades. Errada: A motivação é uma força interna fundamental que impulsiona os consumidores a reconhecer e buscar a satisfação de suas necessidades e desejos.A percepção não afeta como o consumidor seleciona, organiza e interpreta informações. Errada: A percepção é crucial no processo de tomada de decisão, pois afeta diretamente como os consumidores selecionam, organizam e interpretam as informações.A aprendizagem não envolve mudanças no comportamento do consumidor baseadas em experiências. Errada: A aprendizagem é um processo contínuo que envolve mudanças de comportamento baseadas em experiências anteriores, influenciando decisões futuras de compra.Crenças e atitudes são predisposições aprendidas que influenciam escolhas e fidelidade à marca. Correta: Esta alternativa identifica corretamente o papel das crenças e atitudes, que são predisposições aprendidas influenciando significativamente as escolhas de consumo e a lealdade à marca.Fatores psicológicos têm pouco impacto na interpretação de publicidade e mensagens de marketing. Errada: Fatores psicológicos têm um impacto significativo na forma como os consumidores interpretam e reagem à publicidade e às mensagens de marketing, moldando suas percepções e decisões de compra.\n",
      "Unidade_3 Questao_4 No marketing digital, a definição de objetivos claros e quantificáveis é o primeiro passo para um planejamento eficaz, permitindo a mensuração precisa do sucesso das iniciativas digitais. Esses objetivos podem variar desde aumentar o reconhecimento da marca até melhorar a taxa de conversão ou elevar as vendas, demonstrando a versatilidade e a importância de estratégias bem definidas no ambiente digital.Considerando a importância de definir objetivos claros e quantificáveis no planejamento de marketing digital, qual das seguintes afirmações melhor representa a razão pela qual essa etapa é crucial?Apenas aumentar o reconhecimento da marca é suficiente para garantir o sucesso no ambiente digital. Errada: Ignora que o marketing digital tem múltiplos objetivos além do aumento do reconhecimento da marca, como a melhoria da taxa de conversão e o aumento das vendas, todos fundamentais para o sucesso digital.Definir objetivos claros é essencial para a mensuração precisa do sucesso das estratégias digitais implementadas. Correta: Esta alternativa destaca a importância de definir objetivos claros e quantificáveis, essenciais para avaliar o sucesso das estratégias de marketing digital implementadas e ajustar as ações conforme necessário.Focar exclusivamente em elevar as vendas é a única maneira de aproveitar o potencial do marketing digital. Errada: Limita o escopo do marketing digital ao focar exclusivamente em elevar as vendas, ignorando outros objetivos importantes como o reconhecimento da marca e a melhoria da taxa de conversão.A melhoria da taxa de conversão não necessita de objetivos quantificáveis para ser avaliada efetivamente. Errada: A melhoria da taxa de conversão, assim como outros objetivos de marketing digital, beneficia-se significativamente de objetivos claros e quantificáveis para uma avaliação eficaz.Priorizar a definição de objetivos não é tão importante quanto escolher as ferramentas digitais corretas. Errada: Subestima a importância da definição de objetivos no planejamento de marketing digital. Embora a escolha de ferramentas digitais seja crucial, sem objetivos claros, é desafiador mensurar o sucesso e otimizar as estratégias.\n",
      "Unidade_4 Questao_1 A gestão estratégica da cadeia de suprimentos é crucial para a competitividade e sustentabilidade de um negócio, envolvendo desde a aquisição de matérias-primas até a entrega do produto final. Esta gestão abrange a análise e otimização dos processos para reduzir custos e melhorar a qualidade e eficiência.No contexto da gestão da cadeia de suprimentos, qual dos seguintes fatores é essencial para melhorar o desempenho em termos de eficiência e responsividade?Focar exclusivamente na redução do tempo de transporte entre fornecedores. Errada: A redução do tempo de transporte é importante, mas focar exclusivamente nisso ignora outros aspectos críticos da cadeia de suprimentos.Concentrar esforços apenas na gestão de estoques de produtos acabados. Errada: Enquanto a gestão de estoques de produtos acabados é relevante, não abrange a totalidade dos elementos que influenciam a eficiência e responsividade da cadeia.Adotar uma abordagem holística que considera estoque, transporte, instalações e informação. Correta: Uma abordagem holística que considera todos os elementos-chave — estoque, transporte, instalações e informação — é fundamental para otimizar a cadeia de suprimentos de maneira eficaz.Priorizar unicamente parcerias com fornecedores internacionais para reduzir custos. Errada: Embora parcerias internacionais possam reduzir custos, focar apenas nisso não garante uma cadeia de suprimentos eficiente e responsiva.Limitar a análise à qualidade dos produtos, desconsiderando outros elementos da cadeia. Errada: A qualidade dos produtos é essencial, mas não é o único fator a ser considerado na gestão eficiente da cadeia de suprimentos.\n",
      "Unidade_4 Questao_2 A administração eficaz do capital de giro e a compreensão dos ciclos financeiros são vitais para a sustentabilidade financeira de uma empresa. Considere as afirmações a seguir:I. Uma gestão ineficaz do ciclo financeiro pode levar a um aumento na necessidade de capital de giro, elevando os custos financeiros e pressionando a liquidez da empresa.II. Negociar prazos de pagamento mais longos com fornecedores, sem incorrer em custos adicionais, pode melhorar a posição de caixa da empresa, mas não afeta sua rentabilidade.III. A interdependência entre os ciclos operacional, econômico e financeiro significa que melhorias em um ciclo podem beneficiar os outros, otimizando o uso do capital e melhorando a liquidez e rentabilidade.Assinale a alternativa correta:I - Correta. Uma gestão ineficaz do ciclo financeiro aumenta a necessidade de capital de giro e pode elevar significativamente os custos financeiros, afetando negativamente a liquidez da empresa.II - Errada. Negociar prazos de pagamento mais longos com fornecedores pode melhorar a liquidez e também afetar positivamente a rentabilidade, pois reduz a necessidade de financiamento externo e os custos financeiros associados.III - Correta. A interdependência entre os ciclos operacional, econômico e financeiro indica que otimizações em um ciclo podem levar a melhorias nos outros, resultando em uso mais eficiente do capital, além de melhorar tanto a liquidez quanto a rentabilidade da empresa. \n",
      "Unidade_4 Questao_3 A compreensão dos custos e despesas associados à produção e comercialização de produtos ou serviços é crucial para a definição de estratégias de precificação eficazes. Esta compreensão permite que as empresas não apenas cubram seus gastos, mas também estabeleçam uma margem de lucro saudável. Diferenciar entre custos diretos, custos indiretos, despesas fixas e variáveis é fundamental para calcular o preço de venda de forma precisa.Considerando os diferentes tipos de custos e despesas na formação do preço de venda, assinale a alternativa que descreve corretamente a natureza desses gastos.Custos diretos variam com a produção; custos indiretos são fixos e não variam. Errada: Esta alternativa corretamente afirma que os custos diretos variam com a produção, mas é imprecisa ao sugerir que todos os custos indiretos são fixos e não variam. Custos indiretos podem ser tanto fixos quanto variáveis.Despesas fixas flutuam com vendas; despesas variáveis são constantes. Errada: Descreve incorretamente a natureza das despesas fixas e variáveis. Despesas fixas são constantes e não flutuam com o volume de vendas ou produção, enquanto as despesas variáveis sim flutuam em proporção direta com o volume de vendas ou produção.Custos indiretos são rastreáveis; custos diretos não variam com a produção. Errada: Inverte a natureza dos custos diretos e indiretos. Custos diretos são, de fato, variáveis e diretamente atribuíveis à produção, enquanto os custos indiretos não são diretamente rastreáveis a produtos específicos.Custos diretos são atribuíveis à produção; custos indiretos não são rastreáveis a produtos. Correta: Esta alternativa corretamente distingue entre custos diretos e indiretos. Custos diretos são aqueles que podem ser diretamente atribuídos à produção de um bem ou serviço, como matéria-prima e mão de obra direta. Custos indiretos, por outro lado, não podem ser diretamente atribuídos a um produto ou serviço específico, como aluguel e salários administrativos.Despesas variáveis são fixas; custos diretos flutuam com as vendas. Errada: Apresenta uma descrição confusa e incorreta dos conceitos de despesas variáveis e custos diretos. Despesas variáveis não são fixas; elas variam com o volume de vendas ou produção. Custos diretos são diretamente relacionados à produção, não necessariamente flutuando com as vendas, mas sim com a quantidade produzida.\n",
      "Unidade_4 Questao_4 O orçamento é uma ferramenta essencial na gestão financeira, atuando como um guia para o planejamento e controle financeiro dentro das organizações. Ele permite a previsão de receitas e despesas, facilitando a tomada de decisões informadas e a alocação eficaz de recursos. Com relação aos impactos do orçamento na gestão organizacional, avalie as seguintes afirmativas:I. O orçamento ajuda a assegurar que as entidades cumpram seus objetivos e compromissos sem exceder suas capacidades financeiras, promovendo sustentabilidade financeira.II. A utilização de um orçamento estático em um ambiente volátil é recomendada, pois oferece estabilidade e previsibilidade nas finanças.III. O orçamento base zero favorece a transparência e a responsabilidade fiscal, ao exigir que todos os gastos sejam justificados, independentemente dos orçamentos de períodos anteriores.Assinale a alternativa correta:I - Correta. O orçamento é crucial para assegurar que as entidades mantenham suas operações e objetivos alinhados com suas capacidades financeiras, promovendo uma gestão financeira sustentável.II - Errada. O uso de um orçamento estático em ambientes voláteis pode ser limitante, pois não permite ajustes em resposta a mudanças no ambiente de negócios. Orçamentos mais flexíveis ou ajustados são recomendados para tais cenários.III - Correta. O orçamento base zero promove eficiência, transparência e responsabilidade fiscal, incentivando a justificativa de todas as despesas e a análise crítica dos gastos, independentemente dos orçamentos passados.\n"
     ]
    }
   ],
   "source": [
    "from langchain_core.documents import Document\n",
    "\n",
    "for LU in dict_questoes.keys():\n",
    "    for questao in dict_questoes[LU].keys():\n",
    "        questao_texto = dict_questoes[LU][questao]['title']+dict_questoes[LU][questao]['description']+dict_questoes[LU][questao]['feedback']    \n",
    "        print(LU, questao, questao_texto)\n",
    "        \n",
    "        vector_store = FAISS(\n",
    "            embedding_function=embeddings,\n",
    "            index=faiss.IndexFlatL2(len(embeddings.embed_query(\"hello world\"))),\n",
    "            docstore=InMemoryDocstore(),\n",
    "            index_to_docstore_id={})\n",
    "   \n",
    "        vector_store.add_documents(\n",
    "            documents=[Document(i) for i in dict_conteudo[LU].values()],\n",
    "            ids=list(dict_conteudo[LU].keys()))\n",
    "        \n",
    "        results = vector_store.similarity_search(questao_texto, k=2)\n",
    "        dict_questoes[LU][questao]['aula_relacionada_1'] = results[0].page_content\n",
    "        dict_questoes[LU][questao]['aula_relacionada_2'] = results[1].page_content"
   ]
  },
  {
   "cell_type": "code",
   "execution_count": 34,
   "metadata": {},
   "outputs": [
    {
     "name": "stderr",
     "output_type": "stream",
     "text": [
      "C:\\Users\\renan.vital\\AppData\\Local\\Temp\\ipykernel_1096\\3739503124.py:3: LangChainDeprecationWarning: The class `AzureChatOpenAI` was deprecated in LangChain 0.0.10 and will be removed in 1.0. An updated version of the class exists in the :class:`~langchain-openai package and should be used instead. To use it run `pip install -U :class:`~langchain-openai` and import as `from :class:`~langchain_openai import AzureChatOpenAI``.\n",
      "  llm = AzureChatOpenAI(\n"
     ]
    }
   ],
   "source": [
    "from langchain_community.chat_models import AzureChatOpenAI\n",
    "\n",
    "llm = AzureChatOpenAI(\n",
    "    azure_endpoint=\"https://openai-dados-lab-poc.openai.azure.com/\",\n",
    "    api_key=os.environ[\"AZURE_OPENAI_API_KEY\"],\n",
    "    azure_deployment=\"gpt-4o\",\n",
    "    openai_api_version=\"2024-02-01\"\n",
    ")"
   ]
  },
  {
   "cell_type": "code",
   "execution_count": 39,
   "metadata": {},
   "outputs": [
    {
     "name": "stdout",
     "output_type": "stream",
     "text": [
      "Unidade_1 Questao_1 O Poder de Barganha dos Fornecedores é uma das cinco forças no modelo das Cinco Forças de Porter, que ajuda a determinar a atratividade e a competitividade de um mercado ou setor. Esta força específica analisa até que ponto os fornecedores podem influenciar o preço e as condições de seus produtos ou serviços.Considerando o impacto do Poder de Barganha dos Fornecedores na estratégia de negócios, avalie as seguintes asserções e a relação proposta entre elas.I. Empresas podem reduzir o poder de barganha dos fornecedores através da diversificação de fontes de suprimento, estabelecendo relações de longo prazo com diversos fornecedores ou investindo em verticalização. Essas estratégias ajudam a minimizar a dependência de fornecedores específicos, permitindo uma maior flexibilidade operacional e reduzindo o risco de aumento de preços ou diminuição da qualidade dos insumos.PORQUEII. A concentração de fornecedores e a falta de substitutos viáveis são as únicas condições que determinam o poder de barganha dos fornecedores, tornando outras estratégias de mitigação, como a criação de produtos substitutos internamente ou a mudança para fornecedores internacionais, irrelevantes para a redução desse poder.A respeito dessas asserções, assinale a alternativa correta.As asserções I e II são proposições verdadeiras, mas a II não justifica a I. Errada. Embora a asserção I seja verdadeira, a asserção II é falsa porque negligencia a eficácia de outras estratégias de mitigação que podem efetivamente reduzir o poder de barganha dos fornecedores, como a inovação em produtos substitutos ou a expansão da base de fornecedores.As asserções I e II são proposições verdadeiras e a II justifica a I. Errada. A II não pode justificar a I, pois a asserção II apresenta uma visão limitada e incorreta sobre os fatores que influenciam o poder de barganha dos fornecedores. Estratégias de mitigação além da diversificação de fornecedores e a busca por substitutos são relevantes e eficazes.A asserção I é uma proposição verdadeira e a II, falsa. Correta. A asserção I é verdadeira porque identifica estratégias válidas e eficazes para reduzir o poder de barganha dos fornecedores. A asserção II é falsa, pois existem várias outras condições e estratégias que podem influenciar o poder de barganha dos fornecedores, além da concentração de fornecedores e da falta de substitutos viáveis.A asserção I é uma proposição falsa e a II, verdadeira. Errada. A asserção I é verdadeira, destacando métodos práticos pelos quais as empresas podem diminuir a influência de fornecedores poderosos. A asserção II é falsa, pois subestima a importância e a eficácia de estratégias alternativas para reduzir o poder de barganha dos fornecedores.As asserções I e II são proposições falsas. Errada. A asserção I é claramente verdadeira, oferecendo insight sobre como as empresas podem combater o poder de barganha dos fornecedores. Alegar que ambas as asserções são falsas desconsidera a validade da primeira asserção e a complexidade da gestão de relações com fornecedores.\n",
      "Unidade_1 Questao_2 O planejamento é uma ferramenta essencial para a organização e execução de objetivos em qualquer área de atuação. Ao dividir este processo em níveis distintos, é possível abordar desde visões amplas até detalhes específicos de implementação. Essa estratificação permite uma melhor alocação de recursos, priorização de tarefas e alinhamento de metas, garantindo que todos os aspectos de um projeto ou estratégia sejam considerados de maneira integrada e eficaz.Assinale a alternativa correta que identifica os níveis de planejamento utilizados nas organizações.Planejamento Estratégico, Planejamento Operacional e Planejamento Contingencial. Incorreta. Esta alternativa mistura níveis tradicionais de planejamento (estratégico e operacional) com um tipo de planejamento que é mais um componente ou abordagem dentro dos níveis existentes (contingencial).Planejamento Tático, Planejamento Financeiro e Planejamento Estratégico. Incorreta. Esta alternativa inclui dois níveis reconhecidos de planejamento (estratégico e tático) mas introduz o Planejamento Financeiro como um nível separado, o qual, na realidade, é um aspecto ou componente do Planejamento Estratégico e Tático.Planejamento de Marketing, Planejamento Estratégico e Planejamento Financeiro. Incorreta. Esta opção inclui o Planejamento Estratégico corretamente, mas adiciona Planejamento de Marketing e Planejamento Financeiro como se fossem níveis separados. Ambos são, na verdade, componentes do planejamento estratégico e tático, focando em aspectos específicos da estratégia geral da organização. Portanto, não são categorizados como níveis separados de planejamento.Planejamento Estratégico, Planejamento de Recursos Humanos e Planejamento Tático. Incorreta: Esta alternativa reconhece o Planejamento Estratégico e o Planejamento Tático como níveis de planejamento. No entanto, o Planejamento de Recursos Humanos é mais bem entendido como um componente do Planejamento Tático (e, em alguns casos, do Operacional), visto que lida com a alocação e desenvolvimento de pessoal dentro da estrutura organizacional, e não como um nível separado de planejamento.Planejamento Estratégico, Planejamento Tático e Planejamento Operacional. Correta. Esta é a única alternativa que corretamente identifica os três níveis de planejamento reconhecidos nas organizações. O Planejamento Estratégico define a direção de longo prazo e os objetivos gerais da organização. O Planejamento Tático traduz esses objetivos em planos mais específicos, focados em diferentes departamentos ou unidades de negócios. O Planejamento Operacional detalha ainda mais esses planos em atividades cotidianas e procedimentos.\n",
      "Unidade_1 Questao_3 O desenvolvimento de mercado é uma estratégia de crescimento que envolve a introdução de produtos ou serviços existentes em novos mercados. Este processo pode incluir a expansão geográfica, a exploração de novos segmentos de mercado ou até mesmo a adaptação de produtos para atender às necessidades específicas de diferentes culturas ou preferências locais.Com base na estratégia de desenvolvimento de mercado, avalie as seguintes asserções e a relação proposta entre elas.I. A adaptação de um menu clássico para incluir opções que atendam às preferências locais é crucial para o sucesso de uma pizzaria em uma nova cidade, pois permite que a empresa atenda às expectativas dos clientes locais mantendo a essência de sua marca.PORQUEII. A identidade da marca e a consistência do menu são menos importantes que a adaptação local quando se entra em um novo mercado, já que satisfazer as preferências e necessidades locais deve ser a prioridade máxima para garantir a aceitação do mercado.A respeito dessas asserções, assinale a alternativa correta.As asserções I e II são proposições verdadeiras, mas a II não justifica a I. Errada: A asserção II contradiz a importância dada à adaptação local sem negar a relevância da identidade da marca e da consistência do menu, o que a torna uma justificativa inadequada para a asserção I.As asserções I e II são proposições verdadeiras e a II justifica a I. Errada: A asserção II sugere que a identidade da marca e a consistência do menu são menos importantes do que a adaptação local, o que poderia contradizer a ideia de que manter a essência da marca é crucial, conforme indicado na asserção I.A asserção I é uma proposição verdadeira e a II, falsa. Correta: A asserção I é verdadeira porque destaca a importância da adaptação ao mercado local mantendo a essência da marca, o que é uma estratégia comprovada de desenvolvimento de mercado. A asserção II é falsa, pois subestima a importância da identidade da marca e da consistência, que são fundamentais para o sucesso a longo prazo em novos mercados.A asserção I é uma proposição falsa e a II, verdadeira. Errada: A asserção I é verdadeira porque reflete uma estratégia equilibrada de entrar em novos mercados, adaptando-se às preferências locais sem perder a identidade da marca. A asserção II apresenta uma visão limitada, sugerindo uma priorização inadequada.As asserções I e II são proposições falsas. Errada: Ambas as asserções apresentam pontos válidos sobre o desenvolvimento de mercado, mas a asserção II é mal orientada ao sugerir que a identidade da marca e a consistência do menu são menos importantes que a adaptação local.\n",
      "Unidade_1 Questao_4 No mercado altamente competitivo de hoje, o posicionamento de uma empresa desempenha um papel fundamental em sua visibilidade e sucesso. Existem diferentes tipos de estratégias de posicionamento uma que é bastante interessante é a estratégia em que a empresa se coloca diretamente em relação aos seus concorrentes, destacando o que a torna superior. Essa abordagem pode ser arriscada, mas, quando bem executada, estabelece uma comparação direta que pode favorecer a marca em questão.Qual estratégia de posicionamento é mencionada no texto-base? Posicionamento de nicho. Errada. O posicionamento de nicho é uma estratégia diferente da mencionada no texto base, que se concentra em atender a um segmento específico do mercado, em vez de se posicionar em relação aos concorrentes.Posicionamento por categoria. Errada. O posicionamento por categoria também é uma estratégia diferente da abordada no texto base. Nesse caso, a empresa se posicionaria com base na categoria de produtos ou serviços que oferece, e não em relação aos concorrentes diretos.Posicionamento por usuário. Errada. O posicionamento por usuário é outra estratégia que não corresponde à mencionada no texto base. Nesse caso, a empresa se concentra nas necessidades e preferências dos clientes, não na comparação direta com os concorrentes.Posicionamento por concorrente. Certa. Essa é a estratégia correta mencionada no texto-base. No posicionamento por concorrente, a empresa se coloca diretamente em relação aos seus concorrentes, buscando destacar o que a torna superior.Posicionamento de produto. Errada. O posicionamento de produto é outra estratégia diferente da abordada no texto base. Nesse caso, a empresa se concentra em destacar as características ou benefícios específicos do produto em relação à concorrência, não na comparação global da marca com seus concorrentes.\n",
      "Unidade_2 Questao_1 Independentemente da sua natureza, todas as organizações compartilham funções organizacionais essenciais que desempenham um papel fundamental na consecução de seus objetivos. Essas funções são cruciais para o funcionamento eficiente e eficaz de uma organização e podem ser consideradas como os pilares que sustentam sua operação.Qual é a função que se concentra na gestão de pessoas dentro da organização, incluindo recrutamento, treinamento, desenvolvimento de carreira e garantia de um ambiente de trabalho saudável e produtivo?Produção ou Operações. Incorreta. Esta função envolve a criação de bens ou serviços que a organização oferece. É o coração da maioria das empresas, onde as matérias-primas são transformadas em produtos finais.Marketing. Incorreta. Esta função lida com a promoção e venda dos produtos ou serviços da organização. Inclui pesquisa de mercado, publicidade e estratégias de vendas para atrair e reter clientes.Pesquisa e Desenvolvimento (P&D). Incorreta. Fundamental para a inovação, esta função se concentra no desenvolvimento de novos produtos ou na melhoria dos existentes, garantindo a competitividade e a relevância da organização no mercado.Finanças. Incorreta. As finanças envolvem a gestão dos recursos financeiros da organização, incluindo orçamento, investimentos, contabilidade e controle financeiro.Recursos Humanos (RH). Correta. Esta função trata da gestão de pessoas dentro da organização. Inclui recrutamento, treinamento, desenvolvimento de carreira e garantia de um ambiente de trabalho saudável e produtivo.\n",
      "Unidade_2 Questao_2 Os princípios da Produção em Massa, essenciais para a revolução industrial e particularmente na indústria automobilística, são baseados em dois pilares principais. Estes princípios foram fundamentais para o aumento da produtividade e eficiência nas fábricas.Assinale a alternativa correta sobre os princípios da Produção em Massa.A Produção em Massa eliminou a necessidade de peças padronizadas e intercambiáveis, focando exclusivamente na especialização do trabalhador. Incorreta. A Produção em Massa depende fortemente de peças padronizadas e intercambiáveis, além da especialização do trabalhador, para sua eficácia.Na Produção em Massa, a especialização do trabalhador é desencorajada, promovendo um modelo de trabalho mais flexível e generalista. Incorreta. Ao contrário, na Produção em Massa, a especialização do trabalhador é fundamental, com cada um focando em uma tarefa específica na linha de montagem.Os princípios da Produção em Massa foram aplicados inicialmente na indústria têxtil, antes de serem adotados na indústria automobilística. Incorreta. Embora a indústria têxtil tenha sido uma das pioneiras na revolução industrial, os princípios específicos da Produção em Massa foram mais notavelmente aplicados e desenvolvidos na indústria automobilística.Peças e componentes padronizados e intercambiáveis, juntamente com a especialização do trabalhador, são pilares da Produção em Massa. Correta. Os dois pilares fundamentais da Produção em Massa são, de fato, a padronização de peças e componentes, que permite uma montagem eficiente e facilita manutenção, e a especialização do trabalhador, cada um realizando uma tarefa específica na linha de montagem.A Produção em Massa foca na produção de itens personalizados e únicos, rejeitando a padronização de peças e a especialização do trabalho. Incorreta. A Produção em Massa é caracterizada pela padronização de peças e pela produção de itens em grande escala, ao invés de focar na personalização e unicidade de produtos. \n",
      "Unidade_2 Questao_3 A Teoria das Decisões, desenvolvida por Herbert Simon, é um marco na compreensão do comportamento dos indivíduos dentro das organizações, especialmente em relação a como tomam decisões. Simon identificou duas categorias principais de decisões: programadas e não programadas.Qual é a principal diferença entre decisões programadas e não programadas, de acordo com a Teoria das Decisões de Herbert Simon?Decisões programadas são tomadas por líderes de alto nível, enquanto decisões não programadas são tomadas por líderes de nível médio. Incorreta. A Teoria das Decisões de Herbert Simon não relaciona o nível hierárquico dos tomadores de decisão com o tipo de decisão. Tanto líderes de alto nível quanto líderes de nível médio podem estar envolvidos em decisões programadas e não programadas.Decisões programadas envolvem situações complexas, enquanto decisões não programadas são rotineiras. Incorreta. A Teoria das Decisões de Herbert Simon não descreve decisões programadas como envolvendo situações complexas. Pelo contrário, decisões programadas são aquelas que envolvem situações rotineiras e repetitivas, enquanto decisões não programadas lidam com situações únicas e complexas.Decisões programadas são repetitivas e seguem procedimentos padrão, enquanto decisões não programadas lidam com situações únicas e complexas.Correta. A Teoria das Decisões de Herbert Simon distingue as decisões programadas das não programadas com base na natureza das situações que elas abordam. Decisões programadas são repetitivas e seguem procedimentos padrão, enquanto decisões não programadas lidam com situações únicas e complexas.Decisões programadas são tomadas de forma impulsiva, enquanto decisões não programadas são cuidadosamente planejadas. Incorreta.  A teoria não faz referência ao caráter impulsivo ou cuidadosamente planejado das decisões programadas e não programadas. Portanto, essa não é a principal distinção entre esses tipos de decisões.Decisões programadas são tomadas rapidamente, enquanto decisões não programadas são demoradas. Incorreta. A teoria não estabelece uma relação direta entre a velocidade com que as decisões são tomadas e o tipo de decisão. A rapidez ou demora na tomada de decisões depende de vários fatores e não é uma característica fundamental usada para distingui-las.\n",
      "Unidade_2 Questao_4 A Teoria da Excelência das Empresas começou a se desenvolver na década de 1960 e ganhou força na década de 1990. Impulsionada pelo advogado norte-americano Robert Monks, essa teoria se concentra na governança corporativa como peça-chave para o sucesso empresarial. Ela promove uma administração que é ao mesmo tempo ágil, sustentada e centrada nas pessoas. Esta teoria enfatiza a importância de uma administração estruturada e lógica, que seja capaz de responder rapidamente às mudanças do mercado e às necessidades dos stakeholders.Qual das práticas administrativas a seguir se concentra no planejamento e execução de estratégias de longo prazo para posicionar a empresa de forma competitiva e sustentável no mercado?Administração Participativa. Esta alternativa está errada em relação à pergunta, pois não se concentra no planejamento e execução de estratégias de longo prazo para a competitividade e sustentabilidade da empresa.Administração Estratégica. Esta alternativa está correta. A Administração Estratégica é a prática que se concentra no planejamento e execução de estratégias de longo prazo para posicionar a empresa de forma competitiva e sustentável no mercado, conforme solicitado na pergunta.Administração Virtual. Esta alternativa está errada em relação à pergunta, pois se concentra na gestão de operações em ambientes digitais, não especificamente no planejamento estratégico de longo prazo.Administração Colaborativa. Esta alternativa está errada em relação à pergunta, pois se concentra na promoção da colaboração entre partes interessadas, não no planejamento estratégico de longo prazo.Administração Sustentável. Esta alternativa está errada em relação à pergunta, pois se concentra na gestão responsável dos recursos e na sustentabilidade, não especificamente no planejamento estratégico de longo prazo.\n",
      "Unidade_3 Questao_1 A diferenciação entre treinamento e desenvolvimento nos ambientes corporativos reflete duas abordagens distintas para o aprimoramento dos colaboradores. Enquanto o treinamento visa atender às necessidades imediatas de desempenho, o desenvolvimento foca no crescimento a longo prazo, preparando os funcionários para futuras responsabilidades.Com base na distinção entre treinamento e desenvolvimento, assinale a alternativa que melhor caracteriza o propósito do treinamento.Fomentar uma cultura de aprendizado contínuo e adaptação no ambiente de trabalho. Errada: A cultura de aprendizado contínuo e adaptação é um objetivo mais alinhado com o desenvolvimento do que com o treinamento, que foca em necessidades imediatas.Preparar os funcionários para avançar em suas carreiras dentro da organização. Errada: Preparar os funcionários para avançar em suas carreiras é um objetivo do desenvolvimento, não do treinamento.Corrigir lacunas específicas de competências para melhorar o desempenho atual. Correta: O treinamento visa especificamente a correção de lacunas de competências para melhorar o desempenho atual do funcionário.Desenvolver habilidades para futuras posições e desafios dentro da empresa. Errada: O desenvolvimento de habilidades para futuras posições é um aspecto do desenvolvimento, não do treinamento.Incentivar o desenvolvimento pessoal e profissional a longo prazo dos colaboradores. Errada: O incentivo ao desenvolvimento pessoal e profissional a longo prazo é uma característica do desenvolvimento, e não do treinamento.\n",
      "Unidade_3 Questao_2 Os 7 Ts do marketing introduzem uma perspectiva mais detalhada e focada no cliente, destacando a necessidade de entender e responder às expectativas dos consumidores. Este modelo realça a importância de adaptar a oferta de mercado para incluir não apenas produtos, mas também serviços, experiências e valor agregado.A partir da inclusão de serviços no modelo dos 7 Ts, qual das seguintes opções melhor reflete a mudança na abordagem de marketing?Os serviços são considerados menos importantes que os produtos, recebendo atenção limitada nas estratégias de marketing. Errada: A abordagem dos 7 Ts coloca produtos e serviços em pé de igualdade, reconhecendo ambos como fundamentais para criar valor e satisfazer as necessidades dos clientes.A ênfase em serviços evidencia sua igualdade de importância com produtos, criando valor adicional e diferenciando a oferta. Correta: A inclusão explícita de serviços no modelo dos 7 Ts reflete a compreensão de que eles são tão importantes quanto os produtos para criar uma oferta de mercado diferenciada e valiosa.Serviços são relevantes apenas para empresas de tecnologia, não aplicando-se a outros setores do mercado. Errada: Serviços são essenciais em uma ampla gama de setores, não se limitando à tecnologia. Sua importância é universal, contribuindo significativamente para a experiência do cliente.A inclusão de serviços dilui o foco em qualidade de produto, sugerindo uma estratégia de marketing menos eficaz. Errada: Longe de diluir o foco na qualidade do produto, a inclusão de serviços no modelo dos 7 Ts enfatiza a necessidade de uma oferta integrada e de alta qualidade.Estratégias focadas em serviços priorizam a redução de custos em detrimento da satisfação do cliente e da qualidade. Errada: Estratégias que enfatizam serviços visam melhorar a satisfação do cliente e a qualidade da oferta, e não necessariamente a redução de custos.\n",
      "Unidade_3 Questao_3 Os fatores psicológicos, incluindo motivação, percepção, aprendizagem, crenças e atitudes, são fundamentais para entender como os consumidores interpretam informações e tomam decisões de compra. Esses aspectos internos moldam a forma como os produtos e serviços são vistos e escolhidos pelos consumidores.Levando em consideração os fatores psicológicos que influenciam o comportamento do consumidor, assinale a alternativa correta.A motivação não é considerada uma força interna que impulsiona o consumidor a satisfazer necessidades. Errada: A motivação é uma força interna fundamental que impulsiona os consumidores a reconhecer e buscar a satisfação de suas necessidades e desejos.A percepção não afeta como o consumidor seleciona, organiza e interpreta informações. Errada: A percepção é crucial no processo de tomada de decisão, pois afeta diretamente como os consumidores selecionam, organizam e interpretam as informações.A aprendizagem não envolve mudanças no comportamento do consumidor baseadas em experiências. Errada: A aprendizagem é um processo contínuo que envolve mudanças de comportamento baseadas em experiências anteriores, influenciando decisões futuras de compra.Crenças e atitudes são predisposições aprendidas que influenciam escolhas e fidelidade à marca. Correta: Esta alternativa identifica corretamente o papel das crenças e atitudes, que são predisposições aprendidas influenciando significativamente as escolhas de consumo e a lealdade à marca.Fatores psicológicos têm pouco impacto na interpretação de publicidade e mensagens de marketing. Errada: Fatores psicológicos têm um impacto significativo na forma como os consumidores interpretam e reagem à publicidade e às mensagens de marketing, moldando suas percepções e decisões de compra.\n",
      "Unidade_3 Questao_4 No marketing digital, a definição de objetivos claros e quantificáveis é o primeiro passo para um planejamento eficaz, permitindo a mensuração precisa do sucesso das iniciativas digitais. Esses objetivos podem variar desde aumentar o reconhecimento da marca até melhorar a taxa de conversão ou elevar as vendas, demonstrando a versatilidade e a importância de estratégias bem definidas no ambiente digital.Considerando a importância de definir objetivos claros e quantificáveis no planejamento de marketing digital, qual das seguintes afirmações melhor representa a razão pela qual essa etapa é crucial?Apenas aumentar o reconhecimento da marca é suficiente para garantir o sucesso no ambiente digital. Errada: Ignora que o marketing digital tem múltiplos objetivos além do aumento do reconhecimento da marca, como a melhoria da taxa de conversão e o aumento das vendas, todos fundamentais para o sucesso digital.Definir objetivos claros é essencial para a mensuração precisa do sucesso das estratégias digitais implementadas. Correta: Esta alternativa destaca a importância de definir objetivos claros e quantificáveis, essenciais para avaliar o sucesso das estratégias de marketing digital implementadas e ajustar as ações conforme necessário.Focar exclusivamente em elevar as vendas é a única maneira de aproveitar o potencial do marketing digital. Errada: Limita o escopo do marketing digital ao focar exclusivamente em elevar as vendas, ignorando outros objetivos importantes como o reconhecimento da marca e a melhoria da taxa de conversão.A melhoria da taxa de conversão não necessita de objetivos quantificáveis para ser avaliada efetivamente. Errada: A melhoria da taxa de conversão, assim como outros objetivos de marketing digital, beneficia-se significativamente de objetivos claros e quantificáveis para uma avaliação eficaz.Priorizar a definição de objetivos não é tão importante quanto escolher as ferramentas digitais corretas. Errada: Subestima a importância da definição de objetivos no planejamento de marketing digital. Embora a escolha de ferramentas digitais seja crucial, sem objetivos claros, é desafiador mensurar o sucesso e otimizar as estratégias.\n",
      "Unidade_4 Questao_1 A gestão estratégica da cadeia de suprimentos é crucial para a competitividade e sustentabilidade de um negócio, envolvendo desde a aquisição de matérias-primas até a entrega do produto final. Esta gestão abrange a análise e otimização dos processos para reduzir custos e melhorar a qualidade e eficiência.No contexto da gestão da cadeia de suprimentos, qual dos seguintes fatores é essencial para melhorar o desempenho em termos de eficiência e responsividade?Focar exclusivamente na redução do tempo de transporte entre fornecedores. Errada: A redução do tempo de transporte é importante, mas focar exclusivamente nisso ignora outros aspectos críticos da cadeia de suprimentos.Concentrar esforços apenas na gestão de estoques de produtos acabados. Errada: Enquanto a gestão de estoques de produtos acabados é relevante, não abrange a totalidade dos elementos que influenciam a eficiência e responsividade da cadeia.Adotar uma abordagem holística que considera estoque, transporte, instalações e informação. Correta: Uma abordagem holística que considera todos os elementos-chave — estoque, transporte, instalações e informação — é fundamental para otimizar a cadeia de suprimentos de maneira eficaz.Priorizar unicamente parcerias com fornecedores internacionais para reduzir custos. Errada: Embora parcerias internacionais possam reduzir custos, focar apenas nisso não garante uma cadeia de suprimentos eficiente e responsiva.Limitar a análise à qualidade dos produtos, desconsiderando outros elementos da cadeia. Errada: A qualidade dos produtos é essencial, mas não é o único fator a ser considerado na gestão eficiente da cadeia de suprimentos.\n",
      "Unidade_4 Questao_2 A administração eficaz do capital de giro e a compreensão dos ciclos financeiros são vitais para a sustentabilidade financeira de uma empresa. Considere as afirmações a seguir:I. Uma gestão ineficaz do ciclo financeiro pode levar a um aumento na necessidade de capital de giro, elevando os custos financeiros e pressionando a liquidez da empresa.II. Negociar prazos de pagamento mais longos com fornecedores, sem incorrer em custos adicionais, pode melhorar a posição de caixa da empresa, mas não afeta sua rentabilidade.III. A interdependência entre os ciclos operacional, econômico e financeiro significa que melhorias em um ciclo podem beneficiar os outros, otimizando o uso do capital e melhorando a liquidez e rentabilidade.Assinale a alternativa correta:I - Correta. Uma gestão ineficaz do ciclo financeiro aumenta a necessidade de capital de giro e pode elevar significativamente os custos financeiros, afetando negativamente a liquidez da empresa.II - Errada. Negociar prazos de pagamento mais longos com fornecedores pode melhorar a liquidez e também afetar positivamente a rentabilidade, pois reduz a necessidade de financiamento externo e os custos financeiros associados.III - Correta. A interdependência entre os ciclos operacional, econômico e financeiro indica que otimizações em um ciclo podem levar a melhorias nos outros, resultando em uso mais eficiente do capital, além de melhorar tanto a liquidez quanto a rentabilidade da empresa. \n",
      "Unidade_4 Questao_3 A compreensão dos custos e despesas associados à produção e comercialização de produtos ou serviços é crucial para a definição de estratégias de precificação eficazes. Esta compreensão permite que as empresas não apenas cubram seus gastos, mas também estabeleçam uma margem de lucro saudável. Diferenciar entre custos diretos, custos indiretos, despesas fixas e variáveis é fundamental para calcular o preço de venda de forma precisa.Considerando os diferentes tipos de custos e despesas na formação do preço de venda, assinale a alternativa que descreve corretamente a natureza desses gastos.Custos diretos variam com a produção; custos indiretos são fixos e não variam. Errada: Esta alternativa corretamente afirma que os custos diretos variam com a produção, mas é imprecisa ao sugerir que todos os custos indiretos são fixos e não variam. Custos indiretos podem ser tanto fixos quanto variáveis.Despesas fixas flutuam com vendas; despesas variáveis são constantes. Errada: Descreve incorretamente a natureza das despesas fixas e variáveis. Despesas fixas são constantes e não flutuam com o volume de vendas ou produção, enquanto as despesas variáveis sim flutuam em proporção direta com o volume de vendas ou produção.Custos indiretos são rastreáveis; custos diretos não variam com a produção. Errada: Inverte a natureza dos custos diretos e indiretos. Custos diretos são, de fato, variáveis e diretamente atribuíveis à produção, enquanto os custos indiretos não são diretamente rastreáveis a produtos específicos.Custos diretos são atribuíveis à produção; custos indiretos não são rastreáveis a produtos. Correta: Esta alternativa corretamente distingue entre custos diretos e indiretos. Custos diretos são aqueles que podem ser diretamente atribuídos à produção de um bem ou serviço, como matéria-prima e mão de obra direta. Custos indiretos, por outro lado, não podem ser diretamente atribuídos a um produto ou serviço específico, como aluguel e salários administrativos.Despesas variáveis são fixas; custos diretos flutuam com as vendas. Errada: Apresenta uma descrição confusa e incorreta dos conceitos de despesas variáveis e custos diretos. Despesas variáveis não são fixas; elas variam com o volume de vendas ou produção. Custos diretos são diretamente relacionados à produção, não necessariamente flutuando com as vendas, mas sim com a quantidade produzida.\n",
      "Unidade_4 Questao_4 O orçamento é uma ferramenta essencial na gestão financeira, atuando como um guia para o planejamento e controle financeiro dentro das organizações. Ele permite a previsão de receitas e despesas, facilitando a tomada de decisões informadas e a alocação eficaz de recursos. Com relação aos impactos do orçamento na gestão organizacional, avalie as seguintes afirmativas:I. O orçamento ajuda a assegurar que as entidades cumpram seus objetivos e compromissos sem exceder suas capacidades financeiras, promovendo sustentabilidade financeira.II. A utilização de um orçamento estático em um ambiente volátil é recomendada, pois oferece estabilidade e previsibilidade nas finanças.III. O orçamento base zero favorece a transparência e a responsabilidade fiscal, ao exigir que todos os gastos sejam justificados, independentemente dos orçamentos de períodos anteriores.Assinale a alternativa correta:I - Correta. O orçamento é crucial para assegurar que as entidades mantenham suas operações e objetivos alinhados com suas capacidades financeiras, promovendo uma gestão financeira sustentável.II - Errada. O uso de um orçamento estático em ambientes voláteis pode ser limitante, pois não permite ajustes em resposta a mudanças no ambiente de negócios. Orçamentos mais flexíveis ou ajustados são recomendados para tais cenários.III - Correta. O orçamento base zero promove eficiência, transparência e responsabilidade fiscal, incentivando a justificativa de todas as despesas e a análise crítica dos gastos, independentemente dos orçamentos passados.\n"
     ]
    }
   ],
   "source": [
    "for LU in dict_questoes.keys():\n",
    "    for questao in dict_questoes[LU].keys():\n",
    "        questao_texto = dict_questoes[LU][questao]['title']+dict_questoes[LU][questao]['description']+dict_questoes[LU][questao]['feedback']    \n",
    "        print(LU, questao, questao_texto)\n",
    "        \n",
    "        curso_lista[0]\n",
    "        template_inicial = \\\n",
    "            f\"\"\"System: Act as a Professor of {curso_lista[0]} - {disciplina}. Your role is develop a\n",
    "            step by step guide to solve the question below, using two text classes. \n",
    "            Question:  {dict_questoes[LU][questao]['title']+dict_questoes[LU][questao]['description']}.\n",
    "            Correct Answer: {dict_questoes[LU][questao]['feedback']}.\n",
    "            ----------------------------------\n",
    "            Context: Use these two texts below to create the guide: \n",
    "            {dict_questoes[LU][questao]['aula_relacionada_1'].split('=|>')[0]}: {dict_questoes[LU][questao]['aula_relacionada_1'].split('=|>')[1]}.\n",
    "            {dict_questoes[LU][questao]['aula_relacionada_2'].split('=|>')[0]}: {dict_questoes[LU][questao]['aula_relacionada_2'].split('=|>')[1]}.\n",
    "            ----------------------------------\n",
    "            Action: Briefly explain how to solve the question using the two texts above, indicating the number of the unit and class.\n",
    "            Important: Just create a list bullet points for each topic from each class on the completion.\"\"\"\n",
    "\n",
    "        completion_inicial = llm.invoke(template_inicial)\n",
    "        dict_questoes[LU][questao]['roteiro_questao'] = completion_inicial.content\n"
   ]
  },
  {
   "cell_type": "code",
   "execution_count": 48,
   "metadata": {},
   "outputs": [
    {
     "data": {
      "text/plain": [
       "'```Unidade 1 - AULA 1```\\n- **Análise Estratégica:**\\n  - Compreender a importância da análise SWOT para identificar forças, fraquezas, oportunidades e ameaças.\\n  - Estudar as cinco forças de Porter para entender a dinâmica competitiva do mercado.\\n  - Analisar o ambiente externo e interno que influencia as operações de um negócio gastronômico.\\n  - Identificar como fatores macroambientais (econômicos, tecnológicos, sociais, legais, políticos, culturais, demográficos e ecológicos) afetam a estratégia do negócio.\\n\\n```Unidade 1 - AULA 2```\\n- **Planejamento e Diretrizes Organizacionais:**\\n  - Compreender o conceito de planejamento como um processo contínuo e sistemático para alcançar objetivos futuros.\\n  - Estudar os níveis de planejamento: estratégico (longo prazo), tático (médio prazo) e operacional (curto prazo).\\n  - Reconhecer a importância do planejamento na gastronomia para a tomada de decisões informadas e otimização de recursos.\\n\\n```Unidade 1 - AULA 3```\\n- **Estratégias da Organização:**\\n  - Explorar estratégias de crescimento, diferenciação e competitivas ofensivas e defensivas.\\n  - Relacionar a adaptação de produtos para novos mercados com a estratégia de crescimento.\\n  - Avaliar a importância da consistência da marca em estratégias de longo prazo.\\n\\n```Unidade 1 - AULA 4```\\n- **Posicionamento de Mercado:**\\n  - Entender o conceito de posicionamento de mercado e sua importância.\\n  - Analisar estratégias de posicionamento como por atributo, benefício, aplicação, usuário, concorrente, categoria de produto, qualidade e preço.\\n  - Relacionar a adaptação de um menu como uma estratégia de posicionamento por benefício ou aplicação.\\n\\n```Unidade 1 - AULA 5```\\n- **Encerramento da Análise Estratégica:**\\n  - Entender a inter-relação entre análise estratégica, planejamento organizacional e posicionamento de mercado.\\n  - Compreender diretrizes organizacionais como missão, visão e valores.\\n  - Estudar estratégias de crescimento, diferenciação e competitividade.\\n  - Aplicar a análise das cinco forças de Porter para identificar oportunidades de mercado e desenvolver estratégias competitivas.\\n\\n```Unidade 2 - AULA 1```\\n- **Visão Geral da Administração:**\\n  - Compreender o conceito de administração e sua aplicação na gastronomia.\\n  - Estudar a importância da eficiência, eficácia e efetividade na operação de restaurantes.\\n  - Analisar a gestão de pessoas e grupos, e a administração como disciplina, arte e profissão.\\n\\n```Unidade 2 - AULA 2```\\n- **Escola Clássica:**\\n  - Estudar os princípios da administração científica de Frederick Taylor.\\n  - Compreender a teoria do processo administrativo de Henri Fayol.\\n  - Aplicar os princípios clássicos ao contexto moderno da administração.\\n\\n```Unidade 2 - AULA 3```\\n- **Escola Burocrática e Humanista:**\\n  - Compreender a teoria burocrática de Max Weber.\\n  - Estudar a teoria das relações humanas e comportamentalista.\\n  - Explorar a teoria estruturalista e do desenvolvimento organizacional.\\n\\n```Unidade 2 - AULA 4```\\n- **Escola Sistêmica, Contingencial e Moderna:**\\n  - Compreender a teoria dos sistemas e a teoria da contingência.\\n  - Estudar a administração por objetivos e por processos.\\n  - Analisar a importância da administração estratégica para o planejamento de longo prazo.\\n\\n```Unidade 3 - AULA 1```\\n- **Gestão de Pessoas:**\\n  - Compreender a evolução e importância da gestão de recursos humanos.\\n  - Diferenciar entre treinamento e desenvolvimento.\\n  - Estudar como o treinamento foca nas necessidades de desempenho imediato.\\n\\n```Unidade 3 - AULA 2```\\n- **Mix de Marketing:**\\n  - Compreender os componentes do mix de marketing: produto, preço, praça, promoção.\\n  - Estudar a importância da integração desses componentes para o marketing de produtos e serviços culinários.\\n  - Analisar a inclusão de serviços no mix de marketing para criar valor e experiências únicas para os clientes.\\n\\n```Unidade 3 - AULA 3```\\n- **Comportamento do Consumidor e Análise de Produtos:**\\n  - Estudar o processo de tomada de decisão do consumidor.\\n  - Compreender os fatores que influenciam as escolhas dos consumidores.\\n  - Reconhecer a importância de alinhar o treinamento com as expectativas dos consumidores.\\n\\n```Unidade 3 - AULA 4```\\n- **Marketing Digital:**\\n  - Compreender a importância de definir objetivos claros no marketing digital.\\n  - Estudar o impacto das estratégias promocionais digitais na gastronomia.\\n  - Analisar a influência da presença digital na visibilidade e credibilidade de um restaurante.\\n\\n```Unidade 3 - AULA 5```\\n- **Revisão de Marketing Digital:**\\n  - Revisar conceitos fundamentais de marketing digital.\\n  - Estudar a integração do mix de marketing no ambiente digital.\\n  - Analisar a aplicação estratégica das mídias sociais para engajar consumidores e impulsionar vendas.\\n\\n```Unidade 4 - AULA 1```\\n- **Conceito de Produção e Gestão da Cadeia de Suprimentos:**\\n  - Compreender o processo de transformação de insumos em produtos ou serviços.\\n  - Estudar a seleção de fornecedores e o fluxo de insumos.\\n  - Analisar a gestão de estoques para o equilíbrio financeiro e operacional.\\n\\n```Unidade 4 - AULA 2```\\n- **Capital de Giro e Ciclos Financeiros:**\\n  - Compreender a importância do capital de giro para operações diárias.\\n  - Estudar os ciclos operacional, econômico e financeiro.\\n  - Analisar a gestão eficaz do capital de giro para vantagem competitiva.\\n\\n```Unidade 4 - AULA 3```\\n- **Precificação e Gestão de Preços:**\\n  - Estudar estratégias de precificação e métodos de formação de preço.\\n  - Compreender os fatores que influenciam as estratégias de preços.\\n  - Analisar a importância de definir preços competitivos e refletir o valor percebido pelos consumidores.\\n\\n```Unidade 4 - AULA 4```\\n- **Tipos de Orçamento e Gestão de Custos:**\\n  - Compreender os diferentes tipos de orçamento: base zero, flexível e estático.\\n  - Estudar a interconexão entre orçamento de vendas e produção.\\n  - Analisar o impacto do planejamento de matérias-primas e despesas operacionais.\\n\\n```Unidade 4 - AULA 5```\\n- **Administração da Produção e Gestão Financeira:**\\n  - Estudar a gestão eficaz de recursos na produção.\\n  - Compreender a importância do capital de giro e ponto de equilíbrio.\\n  - Analisar a gestão orçamentária para planejamento e controle financeiro das operações.'"
      ]
     },
     "execution_count": 48,
     "metadata": {},
     "output_type": "execute_result"
    }
   ],
   "source": [
    "aulas_roteiro=''\n",
    "for LU in dict_questoes.keys():\n",
    "    for questao in dict_questoes[LU].keys():\n",
    "        aulas_roteiro = f\"{aulas_roteiro} \\n - {dict_questoes[LU][questao]['roteiro_questao']} \\n\"    \n",
    "\n",
    "template_inicial = \\\n",
    "    f\"\"\"System: Act as a Professor of {curso_lista[0]} - {disciplina}. Your role is develop a\n",
    "    step by step guide to study for an exam. Use the guide provided below: \\n {aulas_roteiro}. \n",
    "    ----------------------------------\n",
    "    Action: Create a friendly step by step guide.\n",
    "    Important:\n",
    "    - Topics should sorted as this example between triple backticks: ```Unidade 1 - AULA 1, Unidade 1 - AULA 2, Unidade 2 - AULA 1, Unidade 3 - AULA 1```;\n",
    "    - Completion must contain just the guide;\n",
    "    - Completion must be in brazilian portuguese;\"\"\"\n",
    "\n",
    "completion_inicial = llm.invoke(template_inicial)\n",
    "        \n",
    "completion_inicial.content"
   ]
  },
  {
   "cell_type": "code",
   "execution_count": 54,
   "metadata": {},
   "outputs": [
    {
     "data": {
      "text/plain": [
       "'Parabéns por concluir a disciplina de Administração Aplicada à Gastronomia! Esse conhecimento é crucial para sua carreira, pois lhe proporciona as ferramentas necessárias para gerir de forma eficaz e eficiente um negócio gastronômico. A compreensão dos conceitos abordados ao longo do curso permitirá que você tome decisões estratégicas, otimize recursos e alcance o sucesso profissional.\\n\\nEste guia de estudos foi elaborado com base em técnicas de metacognição, sendo uma ferramenta importante que identifica os principais temas de cada aula, que provavelmente serão abordados no exame. Foque em compreender cada tópico para obter um bom desempenho.\\n\\n```Unidade 1 - AULA 1```\\n- **Análise Estratégica:**\\n  - Compreender a importância da análise SWOT para identificar forças, fraquezas, oportunidades e ameaças.\\n  - Estudar as cinco forças de Porter para entender a dinâmica competitiva do mercado.\\n  - Analisar o ambiente externo e interno que influencia as operações de um negócio gastronômico.\\n  - Identificar como fatores macroambientais (econômicos, tecnológicos, sociais, legais, políticos, culturais, demográficos e ecológicos) afetam a estratégia do negócio.\\n\\n```Unidade 1 - AULA 2```\\n- **Planejamento e Diretrizes Organizacionais:**\\n  - Compreender o conceito de planejamento como um processo contínuo e sistemático para alcançar objetivos futuros.\\n  - Estudar os níveis de planejamento: estratégico (longo prazo), tático (médio prazo) e operacional (curto prazo).\\n  - Reconhecer a importância do planejamento na gastronomia para a tomada de decisões informadas e otimização de recursos.\\n\\n```Unidade 1 - AULA 3```\\n- **Estratégias da Organização:**\\n  - Explorar estratégias de crescimento, diferenciação e competitivas ofensivas e defensivas.\\n  - Relacionar a adaptação de produtos para novos mercados com a estratégia de crescimento.\\n  - Avaliar a importância da consistência da marca em estratégias de longo prazo.\\n\\n```Unidade 1 - AULA 4```\\n- **Posicionamento de Mercado:**\\n  - Entender o conceito de posicionamento de mercado e sua importância.\\n  - Analisar estratégias de posicionamento como por atributo, benefício, aplicação, usuário, concorrente, categoria de produto, qualidade e preço.\\n  - Relacionar a adaptação de um menu como uma estratégia de posicionamento por benefício ou aplicação.\\n\\n```Unidade 1 - AULA 5```\\n- **Encerramento da Análise Estratégica:**\\n  - Entender a inter-relação entre análise estratégica, planejamento organizacional e posicionamento de mercado.\\n  - Compreender diretrizes organizacionais como missão, visão e valores.\\n  - Estudar estratégias de crescimento, diferenciação e competitividade.\\n  - Aplicar a análise das cinco forças de Porter para identificar oportunidades de mercado e desenvolver estratégias competitivas.\\n\\n```Unidade 2 - AULA 1```\\n- **Visão Geral da Administração:**\\n  - Compreender o conceito de administração e sua aplicação na gastronomia.\\n  - Estudar a importância da eficiência, eficácia e efetividade na operação de restaurantes.\\n  - Analisar a gestão de pessoas e grupos, e a administração como disciplina, arte e profissão.\\n\\n```Unidade 2 - AULA 2```\\n- **Escola Clássica:**\\n  - Estudar os princípios da administração científica de Frederick Taylor.\\n  - Compreender a teoria do processo administrativo de Henri Fayol.\\n  - Aplicar os princípios clássicos ao contexto moderno da administração.\\n\\n```Unidade 2 - AULA 3```\\n- **Escola Burocrática e Humanista:**\\n  - Compreender a teoria burocrática de Max Weber.\\n  - Estudar a teoria das relações humanas e comportamentalista.\\n  - Explorar a teoria estruturalista e do desenvolvimento organizacional.\\n\\n```Unidade 2 - AULA 4```\\n- **Escola Sistêmica, Contingencial e Moderna:**\\n  - Compreender a teoria dos sistemas e a teoria da contingência.\\n  - Estudar a administração por objetivos e por processos.\\n  - Analisar a importância da administração estratégica para o planejamento de longo prazo.\\n\\n```Unidade 3 - AULA 1```\\n- **Gestão de Pessoas:**\\n  - Compreender a evolução e importância da gestão de recursos humanos.\\n  - Diferenciar entre treinamento e desenvolvimento.\\n  - Estudar como o treinamento foca nas necessidades de desempenho imediato.\\n\\n```Unidade 3 - AULA 2```\\n- **Mix de Marketing:**\\n  - Compreender os componentes do mix de marketing: produto, preço, praça, promoção.\\n  - Estudar a importância da integração desses componentes para o marketing de produtos e serviços culinários.\\n  - Analisar a inclusão de serviços no mix de marketing para criar valor e experiências únicas para os clientes.\\n\\n```Unidade 3 - AULA 3```\\n- **Comportamento do Consumidor e Análise de Produtos:**\\n  - Estudar o processo de tomada de decisão do consumidor.\\n  - Compreender os fatores que influenciam as escolhas dos consumidores.\\n  - Reconhecer a importância de alinhar o treinamento com as expectativas dos consumidores.\\n\\n```Unidade 3 - AULA 4```\\n- **Marketing Digital:**\\n  - Compreender a importância de definir objetivos claros no marketing digital.\\n  - Estudar o impacto das estratégias promocionais digitais na gastronomia.\\n  - Analisar a influência da presença digital na visibilidade e credibilidade de um restaurante.\\n\\n```Unidade 3 - AULA 5```\\n- **Revisão de Marketing Digital:**\\n  - Revisar conceitos fundamentais de marketing digital.\\n  - Estudar a integração do mix de marketing no ambiente digital.\\n  - Analisar a aplicação estratégica das mídias sociais para engajar consumidores e impulsionar vendas.\\n\\n```Unidade 4 - AULA 1```\\n- **Conceito de Produção e Gestão da Cadeia de Suprimentos:**\\n  - Compreender o processo de transformação de insumos em produtos ou serviços.\\n  - Estudar a seleção de fornecedores e o fluxo de insumos.\\n  - Analisar a gestão de estoques para o equilíbrio financeiro e operacional.\\n\\n```Unidade 4 - AULA 2```\\n- **Capital de Giro e Ciclos Financeiros:**\\n  - Compreender a importância do capital de giro para operações diárias.\\n  - Estudar os ciclos operacional, econômico e financeiro.\\n  - Analisar a gestão eficaz do capital de giro para vantagem competitiva.\\n\\n```Unidade 4 - AULA 3```\\n- **Precificação e Gestão de Preços:**\\n  - Estudar estratégias de precificação e métodos de formação de preço.\\n  - Compreender os fatores que influenciam as estratégias de preços.\\n  - Analisar a importância de definir preços competitivos e refletir o valor percebido pelos consumidores.\\n\\n```Unidade 4 - AULA 4```\\n- **Tipos de Orçamento e Gestão de Custos:**\\n  - Compreender os diferentes tipos de orçamento: base zero, flexível e estático.\\n  - Estudar a interconexão entre orçamento de vendas e produção.\\n  - Analisar o impacto do planejamento de matérias-primas e despesas operacionais.\\n\\n```Unidade 4 - AULA 5```\\n- **Administração da Produção e Gestão Financeira:**\\n  - Estudar a gestão eficaz de recursos na produção.\\n  - Compreender a importância do capital de giro e ponto de equilíbrio.\\n  - Analisar a gestão orçamentária para planejamento e controle financeiro das operações.\\n\\nLembre-se de dormir bem, beber água antes do exame, estudar em um local tranquilo e evitar distrações de smartphones ou internet.\\n\\nBoa sorte no exame! Acredite no seu potencial e continue se dedicando, pois você tem todas as ferramentas para ser bem-sucedido. Estamos torcendo por você!'"
      ]
     },
     "execution_count": 54,
     "metadata": {},
     "output_type": "execute_result"
    }
   ],
   "source": [
    "template_final = \\\n",
    "    f\"\"\"System: Act as a Professor of {curso_lista[0]} - {disciplina}. You are developing a study guide for your exam.\n",
    "    This guide must contain:\n",
    "    - Motivational paragraph: Congratulate the discipline conclusion. Remember how important is this knowledge for his carrer (length: 4 lines). \n",
    "    - Instructions:  Tell this guide was build based on meta cognition techniques, and it is a important tool that identifies key subjects on each class that will lickly be asked on the exam. The student should focus and comprehend each topic to perform well.\n",
    "    - Guide: {completion_inicial.content}\n",
    "    - Tips paragraph: Remember to sleep well, drink water before the exam, study on a quiet place and to avoid distractions from smartphones or internet.\n",
    "    - Conclusion: Wish lucky to your student, be kind and positive. \n",
    "    ----------------------------------\n",
    "    Important:\n",
    "    - Be kind, positive and motivational;\n",
    "    - Completion must contain the final versio. Therefore, do not need to tell what the paragraf is about;\n",
    "    - Completion must be in brazilian portuguese;\"\"\"\n",
    "completion_final = llm.invoke(template_final)\n",
    "        \n",
    "completion_final.content"
   ]
  },
  {
   "cell_type": "code",
   "execution_count": 55,
   "metadata": {},
   "outputs": [
    {
     "name": "stdout",
     "output_type": "stream",
     "text": [
      "Parabéns por concluir a disciplina de Administração Aplicada à Gastronomia! Esse conhecimento é crucial para sua carreira, pois lhe proporciona as ferramentas necessárias para gerir de forma eficaz e eficiente um negócio gastronômico. A compreensão dos conceitos abordados ao longo do curso permitirá que você tome decisões estratégicas, otimize recursos e alcance o sucesso profissional.\n",
      "\n",
      "Este guia de estudos foi elaborado com base em técnicas de metacognição, sendo uma ferramenta importante que identifica os principais temas de cada aula, que provavelmente serão abordados no exame. Foque em compreender cada tópico para obter um bom desempenho.\n",
      "\n",
      "```Unidade 1 - AULA 1```\n",
      "- **Análise Estratégica:**\n",
      "  - Compreender a importância da análise SWOT para identificar forças, fraquezas, oportunidades e ameaças.\n",
      "  - Estudar as cinco forças de Porter para entender a dinâmica competitiva do mercado.\n",
      "  - Analisar o ambiente externo e interno que influencia as operações de um negócio gastronômico.\n",
      "  - Identificar como fatores macroambientais (econômicos, tecnológicos, sociais, legais, políticos, culturais, demográficos e ecológicos) afetam a estratégia do negócio.\n",
      "\n",
      "```Unidade 1 - AULA 2```\n",
      "- **Planejamento e Diretrizes Organizacionais:**\n",
      "  - Compreender o conceito de planejamento como um processo contínuo e sistemático para alcançar objetivos futuros.\n",
      "  - Estudar os níveis de planejamento: estratégico (longo prazo), tático (médio prazo) e operacional (curto prazo).\n",
      "  - Reconhecer a importância do planejamento na gastronomia para a tomada de decisões informadas e otimização de recursos.\n",
      "\n",
      "```Unidade 1 - AULA 3```\n",
      "- **Estratégias da Organização:**\n",
      "  - Explorar estratégias de crescimento, diferenciação e competitivas ofensivas e defensivas.\n",
      "  - Relacionar a adaptação de produtos para novos mercados com a estratégia de crescimento.\n",
      "  - Avaliar a importância da consistência da marca em estratégias de longo prazo.\n",
      "\n",
      "```Unidade 1 - AULA 4```\n",
      "- **Posicionamento de Mercado:**\n",
      "  - Entender o conceito de posicionamento de mercado e sua importância.\n",
      "  - Analisar estratégias de posicionamento como por atributo, benefício, aplicação, usuário, concorrente, categoria de produto, qualidade e preço.\n",
      "  - Relacionar a adaptação de um menu como uma estratégia de posicionamento por benefício ou aplicação.\n",
      "\n",
      "```Unidade 1 - AULA 5```\n",
      "- **Encerramento da Análise Estratégica:**\n",
      "  - Entender a inter-relação entre análise estratégica, planejamento organizacional e posicionamento de mercado.\n",
      "  - Compreender diretrizes organizacionais como missão, visão e valores.\n",
      "  - Estudar estratégias de crescimento, diferenciação e competitividade.\n",
      "  - Aplicar a análise das cinco forças de Porter para identificar oportunidades de mercado e desenvolver estratégias competitivas.\n",
      "\n",
      "```Unidade 2 - AULA 1```\n",
      "- **Visão Geral da Administração:**\n",
      "  - Compreender o conceito de administração e sua aplicação na gastronomia.\n",
      "  - Estudar a importância da eficiência, eficácia e efetividade na operação de restaurantes.\n",
      "  - Analisar a gestão de pessoas e grupos, e a administração como disciplina, arte e profissão.\n",
      "\n",
      "```Unidade 2 - AULA 2```\n",
      "- **Escola Clássica:**\n",
      "  - Estudar os princípios da administração científica de Frederick Taylor.\n",
      "  - Compreender a teoria do processo administrativo de Henri Fayol.\n",
      "  - Aplicar os princípios clássicos ao contexto moderno da administração.\n",
      "\n",
      "```Unidade 2 - AULA 3```\n",
      "- **Escola Burocrática e Humanista:**\n",
      "  - Compreender a teoria burocrática de Max Weber.\n",
      "  - Estudar a teoria das relações humanas e comportamentalista.\n",
      "  - Explorar a teoria estruturalista e do desenvolvimento organizacional.\n",
      "\n",
      "```Unidade 2 - AULA 4```\n",
      "- **Escola Sistêmica, Contingencial e Moderna:**\n",
      "  - Compreender a teoria dos sistemas e a teoria da contingência.\n",
      "  - Estudar a administração por objetivos e por processos.\n",
      "  - Analisar a importância da administração estratégica para o planejamento de longo prazo.\n",
      "\n",
      "```Unidade 3 - AULA 1```\n",
      "- **Gestão de Pessoas:**\n",
      "  - Compreender a evolução e importância da gestão de recursos humanos.\n",
      "  - Diferenciar entre treinamento e desenvolvimento.\n",
      "  - Estudar como o treinamento foca nas necessidades de desempenho imediato.\n",
      "\n",
      "```Unidade 3 - AULA 2```\n",
      "- **Mix de Marketing:**\n",
      "  - Compreender os componentes do mix de marketing: produto, preço, praça, promoção.\n",
      "  - Estudar a importância da integração desses componentes para o marketing de produtos e serviços culinários.\n",
      "  - Analisar a inclusão de serviços no mix de marketing para criar valor e experiências únicas para os clientes.\n",
      "\n",
      "```Unidade 3 - AULA 3```\n",
      "- **Comportamento do Consumidor e Análise de Produtos:**\n",
      "  - Estudar o processo de tomada de decisão do consumidor.\n",
      "  - Compreender os fatores que influenciam as escolhas dos consumidores.\n",
      "  - Reconhecer a importância de alinhar o treinamento com as expectativas dos consumidores.\n",
      "\n",
      "```Unidade 3 - AULA 4```\n",
      "- **Marketing Digital:**\n",
      "  - Compreender a importância de definir objetivos claros no marketing digital.\n",
      "  - Estudar o impacto das estratégias promocionais digitais na gastronomia.\n",
      "  - Analisar a influência da presença digital na visibilidade e credibilidade de um restaurante.\n",
      "\n",
      "```Unidade 3 - AULA 5```\n",
      "- **Revisão de Marketing Digital:**\n",
      "  - Revisar conceitos fundamentais de marketing digital.\n",
      "  - Estudar a integração do mix de marketing no ambiente digital.\n",
      "  - Analisar a aplicação estratégica das mídias sociais para engajar consumidores e impulsionar vendas.\n",
      "\n",
      "```Unidade 4 - AULA 1```\n",
      "- **Conceito de Produção e Gestão da Cadeia de Suprimentos:**\n",
      "  - Compreender o processo de transformação de insumos em produtos ou serviços.\n",
      "  - Estudar a seleção de fornecedores e o fluxo de insumos.\n",
      "  - Analisar a gestão de estoques para o equilíbrio financeiro e operacional.\n",
      "\n",
      "```Unidade 4 - AULA 2```\n",
      "- **Capital de Giro e Ciclos Financeiros:**\n",
      "  - Compreender a importância do capital de giro para operações diárias.\n",
      "  - Estudar os ciclos operacional, econômico e financeiro.\n",
      "  - Analisar a gestão eficaz do capital de giro para vantagem competitiva.\n",
      "\n",
      "```Unidade 4 - AULA 3```\n",
      "- **Precificação e Gestão de Preços:**\n",
      "  - Estudar estratégias de precificação e métodos de formação de preço.\n",
      "  - Compreender os fatores que influenciam as estratégias de preços.\n",
      "  - Analisar a importância de definir preços competitivos e refletir o valor percebido pelos consumidores.\n",
      "\n",
      "```Unidade 4 - AULA 4```\n",
      "- **Tipos de Orçamento e Gestão de Custos:**\n",
      "  - Compreender os diferentes tipos de orçamento: base zero, flexível e estático.\n",
      "  - Estudar a interconexão entre orçamento de vendas e produção.\n",
      "  - Analisar o impacto do planejamento de matérias-primas e despesas operacionais.\n",
      "\n",
      "```Unidade 4 - AULA 5```\n",
      "- **Administração da Produção e Gestão Financeira:**\n",
      "  - Estudar a gestão eficaz de recursos na produção.\n",
      "  - Compreender a importância do capital de giro e ponto de equilíbrio.\n",
      "  - Analisar a gestão orçamentária para planejamento e controle financeiro das operações.\n",
      "\n",
      "Lembre-se de dormir bem, beber água antes do exame, estudar em um local tranquilo e evitar distrações de smartphones ou internet.\n",
      "\n",
      "Boa sorte no exame! Acredite no seu potencial e continue se dedicando, pois você tem todas as ferramentas para ser bem-sucedido. Estamos torcendo por você!\n"
     ]
    }
   ],
   "source": [
    "print(completion_final.content)"
   ]
  },
  {
   "cell_type": "markdown",
   "metadata": {},
   "source": []
  }
 ],
 "metadata": {
  "kernelspec": {
   "display_name": "mlflow",
   "language": "python",
   "name": "python3"
  },
  "language_info": {
   "codemirror_mode": {
    "name": "ipython",
    "version": 3
   },
   "file_extension": ".py",
   "mimetype": "text/x-python",
   "name": "python",
   "nbconvert_exporter": "python",
   "pygments_lexer": "ipython3",
   "version": "3.10.9"
  }
 },
 "nbformat": 4,
 "nbformat_minor": 2
}
